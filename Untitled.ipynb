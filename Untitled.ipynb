{
 "cells": [
  {
   "cell_type": "markdown",
   "metadata": {},
   "source": [
    "#### Forecasting Using FbProphet"
   ]
  },
  {
   "cell_type": "code",
   "execution_count": 35,
   "metadata": {},
   "outputs": [],
   "source": [
    "### pip install pystan\n",
    "### conda install -c conda-forge fbprophet\n",
    "import pandas as pd\n",
    "import fbprophet\n",
    "import plotly.express as px\n",
    "import matplotlib.pyplot as plt\n",
    "%matplotlib inline"
   ]
  },
  {
   "cell_type": "code",
   "execution_count": 36,
   "metadata": {},
   "outputs": [],
   "source": [
    "df=pd.read_csv(r'C:\\Users\\sr528\\OneDrive\\Desktop\\hh\\sales1.csv')"
   ]
  },
  {
   "cell_type": "code",
   "execution_count": 37,
   "metadata": {},
   "outputs": [
    {
     "data": {
      "text/html": [
       "<div>\n",
       "<style scoped>\n",
       "    .dataframe tbody tr th:only-of-type {\n",
       "        vertical-align: middle;\n",
       "    }\n",
       "\n",
       "    .dataframe tbody tr th {\n",
       "        vertical-align: top;\n",
       "    }\n",
       "\n",
       "    .dataframe thead th {\n",
       "        text-align: right;\n",
       "    }\n",
       "</style>\n",
       "<table border=\"1\" class=\"dataframe\">\n",
       "  <thead>\n",
       "    <tr style=\"text-align: right;\">\n",
       "      <th></th>\n",
       "      <th>ORDERNUMBER</th>\n",
       "      <th>QUANTITYORDERED</th>\n",
       "      <th>PRICEEACH</th>\n",
       "      <th>ORDERLINENUMBER</th>\n",
       "      <th>SALES</th>\n",
       "      <th>ORDERDATE</th>\n",
       "      <th>STATUS</th>\n",
       "      <th>QTR_ID</th>\n",
       "      <th>MONTH_ID</th>\n",
       "      <th>YEAR_ID</th>\n",
       "      <th>PRODUCTLINE</th>\n",
       "    </tr>\n",
       "  </thead>\n",
       "  <tbody>\n",
       "    <tr>\n",
       "      <th>0</th>\n",
       "      <td>10107</td>\n",
       "      <td>30</td>\n",
       "      <td>95.70</td>\n",
       "      <td>2</td>\n",
       "      <td>2871.00</td>\n",
       "      <td>2/24/2003 0:00</td>\n",
       "      <td>Shipped</td>\n",
       "      <td>1</td>\n",
       "      <td>2</td>\n",
       "      <td>2003</td>\n",
       "      <td>Motorcycles</td>\n",
       "    </tr>\n",
       "    <tr>\n",
       "      <th>1</th>\n",
       "      <td>10121</td>\n",
       "      <td>34</td>\n",
       "      <td>81.35</td>\n",
       "      <td>5</td>\n",
       "      <td>2765.90</td>\n",
       "      <td>05-07-2003 00:00</td>\n",
       "      <td>Shipped</td>\n",
       "      <td>2</td>\n",
       "      <td>5</td>\n",
       "      <td>2003</td>\n",
       "      <td>Motorcycles</td>\n",
       "    </tr>\n",
       "    <tr>\n",
       "      <th>2</th>\n",
       "      <td>10134</td>\n",
       "      <td>41</td>\n",
       "      <td>94.74</td>\n",
       "      <td>2</td>\n",
       "      <td>3884.34</td>\n",
       "      <td>07-01-2003 00:00</td>\n",
       "      <td>Shipped</td>\n",
       "      <td>3</td>\n",
       "      <td>7</td>\n",
       "      <td>2003</td>\n",
       "      <td>Motorcycles</td>\n",
       "    </tr>\n",
       "    <tr>\n",
       "      <th>3</th>\n",
       "      <td>10145</td>\n",
       "      <td>45</td>\n",
       "      <td>83.26</td>\n",
       "      <td>6</td>\n",
       "      <td>3746.70</td>\n",
       "      <td>8/25/2003 0:00</td>\n",
       "      <td>Shipped</td>\n",
       "      <td>3</td>\n",
       "      <td>8</td>\n",
       "      <td>2003</td>\n",
       "      <td>Motorcycles</td>\n",
       "    </tr>\n",
       "    <tr>\n",
       "      <th>4</th>\n",
       "      <td>10159</td>\n",
       "      <td>49</td>\n",
       "      <td>100.00</td>\n",
       "      <td>14</td>\n",
       "      <td>5205.27</td>\n",
       "      <td>10-10-2003 00:00</td>\n",
       "      <td>Shipped</td>\n",
       "      <td>4</td>\n",
       "      <td>10</td>\n",
       "      <td>2003</td>\n",
       "      <td>Motorcycles</td>\n",
       "    </tr>\n",
       "  </tbody>\n",
       "</table>\n",
       "</div>"
      ],
      "text/plain": [
       "   ORDERNUMBER  QUANTITYORDERED  PRICEEACH  ORDERLINENUMBER    SALES  \\\n",
       "0        10107               30      95.70                2  2871.00   \n",
       "1        10121               34      81.35                5  2765.90   \n",
       "2        10134               41      94.74                2  3884.34   \n",
       "3        10145               45      83.26                6  3746.70   \n",
       "4        10159               49     100.00               14  5205.27   \n",
       "\n",
       "          ORDERDATE   STATUS  QTR_ID  MONTH_ID  YEAR_ID  PRODUCTLINE  \n",
       "0    2/24/2003 0:00  Shipped       1         2     2003  Motorcycles  \n",
       "1  05-07-2003 00:00  Shipped       2         5     2003  Motorcycles  \n",
       "2  07-01-2003 00:00  Shipped       3         7     2003  Motorcycles  \n",
       "3    8/25/2003 0:00  Shipped       3         8     2003  Motorcycles  \n",
       "4  10-10-2003 00:00  Shipped       4        10     2003  Motorcycles  "
      ]
     },
     "execution_count": 37,
     "metadata": {},
     "output_type": "execute_result"
    }
   ],
   "source": [
    "df.head()"
   ]
  },
  {
   "cell_type": "code",
   "execution_count": 38,
   "metadata": {},
   "outputs": [
    {
     "data": {
      "text/html": [
       "<div>\n",
       "<style scoped>\n",
       "    .dataframe tbody tr th:only-of-type {\n",
       "        vertical-align: middle;\n",
       "    }\n",
       "\n",
       "    .dataframe tbody tr th {\n",
       "        vertical-align: top;\n",
       "    }\n",
       "\n",
       "    .dataframe thead th {\n",
       "        text-align: right;\n",
       "    }\n",
       "</style>\n",
       "<table border=\"1\" class=\"dataframe\">\n",
       "  <thead>\n",
       "    <tr style=\"text-align: right;\">\n",
       "      <th></th>\n",
       "      <th>ORDERNUMBER</th>\n",
       "      <th>QUANTITYORDERED</th>\n",
       "      <th>PRICEEACH</th>\n",
       "      <th>ORDERLINENUMBER</th>\n",
       "      <th>SALES</th>\n",
       "      <th>ORDERDATE</th>\n",
       "      <th>STATUS</th>\n",
       "      <th>QTR_ID</th>\n",
       "      <th>MONTH_ID</th>\n",
       "      <th>YEAR_ID</th>\n",
       "      <th>PRODUCTLINE</th>\n",
       "    </tr>\n",
       "  </thead>\n",
       "  <tbody>\n",
       "    <tr>\n",
       "      <th>2818</th>\n",
       "      <td>10350</td>\n",
       "      <td>20</td>\n",
       "      <td>100.00</td>\n",
       "      <td>15</td>\n",
       "      <td>2244.40</td>\n",
       "      <td>12-02-2004 00:00</td>\n",
       "      <td>Shipped</td>\n",
       "      <td>4</td>\n",
       "      <td>12</td>\n",
       "      <td>2004</td>\n",
       "      <td>Ships</td>\n",
       "    </tr>\n",
       "    <tr>\n",
       "      <th>2819</th>\n",
       "      <td>10373</td>\n",
       "      <td>29</td>\n",
       "      <td>100.00</td>\n",
       "      <td>1</td>\n",
       "      <td>3978.51</td>\n",
       "      <td>1/31/2005 0:00</td>\n",
       "      <td>Shipped</td>\n",
       "      <td>1</td>\n",
       "      <td>1</td>\n",
       "      <td>2005</td>\n",
       "      <td>Ships</td>\n",
       "    </tr>\n",
       "    <tr>\n",
       "      <th>2820</th>\n",
       "      <td>10386</td>\n",
       "      <td>43</td>\n",
       "      <td>100.00</td>\n",
       "      <td>4</td>\n",
       "      <td>5417.57</td>\n",
       "      <td>03-01-2005 00:00</td>\n",
       "      <td>Resolved</td>\n",
       "      <td>1</td>\n",
       "      <td>3</td>\n",
       "      <td>2005</td>\n",
       "      <td>Ships</td>\n",
       "    </tr>\n",
       "    <tr>\n",
       "      <th>2821</th>\n",
       "      <td>10397</td>\n",
       "      <td>34</td>\n",
       "      <td>62.24</td>\n",
       "      <td>1</td>\n",
       "      <td>2116.16</td>\n",
       "      <td>3/28/2005 0:00</td>\n",
       "      <td>Shipped</td>\n",
       "      <td>1</td>\n",
       "      <td>3</td>\n",
       "      <td>2005</td>\n",
       "      <td>Ships</td>\n",
       "    </tr>\n",
       "    <tr>\n",
       "      <th>2822</th>\n",
       "      <td>10414</td>\n",
       "      <td>47</td>\n",
       "      <td>65.52</td>\n",
       "      <td>9</td>\n",
       "      <td>3079.44</td>\n",
       "      <td>05-06-2005 00:00</td>\n",
       "      <td>On Hold</td>\n",
       "      <td>2</td>\n",
       "      <td>5</td>\n",
       "      <td>2005</td>\n",
       "      <td>Ships</td>\n",
       "    </tr>\n",
       "  </tbody>\n",
       "</table>\n",
       "</div>"
      ],
      "text/plain": [
       "      ORDERNUMBER  QUANTITYORDERED  PRICEEACH  ORDERLINENUMBER    SALES  \\\n",
       "2818        10350               20     100.00               15  2244.40   \n",
       "2819        10373               29     100.00                1  3978.51   \n",
       "2820        10386               43     100.00                4  5417.57   \n",
       "2821        10397               34      62.24                1  2116.16   \n",
       "2822        10414               47      65.52                9  3079.44   \n",
       "\n",
       "             ORDERDATE    STATUS  QTR_ID  MONTH_ID  YEAR_ID PRODUCTLINE  \n",
       "2818  12-02-2004 00:00   Shipped       4        12     2004       Ships  \n",
       "2819    1/31/2005 0:00   Shipped       1         1     2005       Ships  \n",
       "2820  03-01-2005 00:00  Resolved       1         3     2005       Ships  \n",
       "2821    3/28/2005 0:00   Shipped       1         3     2005       Ships  \n",
       "2822  05-06-2005 00:00   On Hold       2         5     2005       Ships  "
      ]
     },
     "execution_count": 38,
     "metadata": {},
     "output_type": "execute_result"
    }
   ],
   "source": [
    "df.tail()"
   ]
  },
  {
   "cell_type": "code",
   "execution_count": 39,
   "metadata": {},
   "outputs": [
    {
     "data": {
      "text/plain": [
       "<AxesSubplot:>"
      ]
     },
     "execution_count": 39,
     "metadata": {},
     "output_type": "execute_result"
    },
    {
     "data": {
      "image/png": "[encoded data removed]",
      "text/plain": [
       "<Figure size 432x288 with 1 Axes>"
      ]
     },
     "metadata": {
      "needs_background": "light"
     },
     "output_type": "display_data"
    }
   ],
   "source": [
    "df.plot()"
   ]
  },
  {
   "cell_type": "code",
   "execution_count": 40,
   "metadata": {},
   "outputs": [],
   "source": [
    "df = df[[\"ORDERDATE\", \"SALES\"]]"
   ]
  },
  {
   "cell_type": "code",
   "execution_count": 41,
   "metadata": {},
   "outputs": [
    {
     "data": {
      "text/html": [
       "<div>\n",
       "<style scoped>\n",
       "    .dataframe tbody tr th:only-of-type {\n",
       "        vertical-align: middle;\n",
       "    }\n",
       "\n",
       "    .dataframe tbody tr th {\n",
       "        vertical-align: top;\n",
       "    }\n",
       "\n",
       "    .dataframe thead th {\n",
       "        text-align: right;\n",
       "    }\n",
       "</style>\n",
       "<table border=\"1\" class=\"dataframe\">\n",
       "  <thead>\n",
       "    <tr style=\"text-align: right;\">\n",
       "      <th></th>\n",
       "      <th>ds</th>\n",
       "      <th>y</th>\n",
       "    </tr>\n",
       "  </thead>\n",
       "  <tbody>\n",
       "    <tr>\n",
       "      <th>0</th>\n",
       "      <td>2/24/2003 0:00</td>\n",
       "      <td>2871.00</td>\n",
       "    </tr>\n",
       "    <tr>\n",
       "      <th>1</th>\n",
       "      <td>05-07-2003 00:00</td>\n",
       "      <td>2765.90</td>\n",
       "    </tr>\n",
       "    <tr>\n",
       "      <th>2</th>\n",
       "      <td>07-01-2003 00:00</td>\n",
       "      <td>3884.34</td>\n",
       "    </tr>\n",
       "    <tr>\n",
       "      <th>3</th>\n",
       "      <td>8/25/2003 0:00</td>\n",
       "      <td>3746.70</td>\n",
       "    </tr>\n",
       "    <tr>\n",
       "      <th>4</th>\n",
       "      <td>10-10-2003 00:00</td>\n",
       "      <td>5205.27</td>\n",
       "    </tr>\n",
       "  </tbody>\n",
       "</table>\n",
       "</div>"
      ],
      "text/plain": [
       "                 ds        y\n",
       "0    2/24/2003 0:00  2871.00\n",
       "1  05-07-2003 00:00  2765.90\n",
       "2  07-01-2003 00:00  3884.34\n",
       "3    8/25/2003 0:00  3746.70\n",
       "4  10-10-2003 00:00  5205.27"
      ]
     },
     "execution_count": 41,
     "metadata": {},
     "output_type": "execute_result"
    }
   ],
   "source": [
    "df.columns = ['ds','y']\n",
    "df.head()"
   ]
  },
  {
   "cell_type": "code",
   "execution_count": 42,
   "metadata": {},
   "outputs": [
    {
     "name": "stderr",
     "output_type": "stream",
     "text": [
      "C:\\Users\\sr528\\anaconda3\\lib\\site-packages\\pandas\\core\\frame.py:4906: SettingWithCopyWarning: \n",
      "A value is trying to be set on a copy of a slice from a DataFrame\n",
      "\n",
      "See the caveats in the documentation: https://pandas.pydata.org/pandas-docs/stable/user_guide/indexing.html#returning-a-view-versus-a-copy\n",
      "  return super().drop(\n"
     ]
    }
   ],
   "source": [
    "df.drop(144,axis=0,inplace=True)"
   ]
  },
  {
   "cell_type": "code",
   "execution_count": 43,
   "metadata": {},
   "outputs": [
    {
     "data": {
      "text/html": [
       "<div>\n",
       "<style scoped>\n",
       "    .dataframe tbody tr th:only-of-type {\n",
       "        vertical-align: middle;\n",
       "    }\n",
       "\n",
       "    .dataframe tbody tr th {\n",
       "        vertical-align: top;\n",
       "    }\n",
       "\n",
       "    .dataframe thead th {\n",
       "        text-align: right;\n",
       "    }\n",
       "</style>\n",
       "<table border=\"1\" class=\"dataframe\">\n",
       "  <thead>\n",
       "    <tr style=\"text-align: right;\">\n",
       "      <th></th>\n",
       "      <th>ds</th>\n",
       "      <th>y</th>\n",
       "    </tr>\n",
       "  </thead>\n",
       "  <tbody>\n",
       "    <tr>\n",
       "      <th>2818</th>\n",
       "      <td>12-02-2004 00:00</td>\n",
       "      <td>2244.40</td>\n",
       "    </tr>\n",
       "    <tr>\n",
       "      <th>2819</th>\n",
       "      <td>1/31/2005 0:00</td>\n",
       "      <td>3978.51</td>\n",
       "    </tr>\n",
       "    <tr>\n",
       "      <th>2820</th>\n",
       "      <td>03-01-2005 00:00</td>\n",
       "      <td>5417.57</td>\n",
       "    </tr>\n",
       "    <tr>\n",
       "      <th>2821</th>\n",
       "      <td>3/28/2005 0:00</td>\n",
       "      <td>2116.16</td>\n",
       "    </tr>\n",
       "    <tr>\n",
       "      <th>2822</th>\n",
       "      <td>05-06-2005 00:00</td>\n",
       "      <td>3079.44</td>\n",
       "    </tr>\n",
       "  </tbody>\n",
       "</table>\n",
       "</div>"
      ],
      "text/plain": [
       "                    ds        y\n",
       "2818  12-02-2004 00:00  2244.40\n",
       "2819    1/31/2005 0:00  3978.51\n",
       "2820  03-01-2005 00:00  5417.57\n",
       "2821    3/28/2005 0:00  2116.16\n",
       "2822  05-06-2005 00:00  3079.44"
      ]
     },
     "execution_count": 43,
     "metadata": {},
     "output_type": "execute_result"
    }
   ],
   "source": [
    "df.tail()"
   ]
  },
  {
   "cell_type": "code",
   "execution_count": 44,
   "metadata": {},
   "outputs": [
    {
     "name": "stderr",
     "output_type": "stream",
     "text": [
      "C:\\Users\\sr528\\AppData\\Local\\Temp/ipykernel_20704/3173280147.py:1: SettingWithCopyWarning: \n",
      "A value is trying to be set on a copy of a slice from a DataFrame.\n",
      "Try using .loc[row_indexer,col_indexer] = value instead\n",
      "\n",
      "See the caveats in the documentation: https://pandas.pydata.org/pandas-docs/stable/user_guide/indexing.html#returning-a-view-versus-a-copy\n",
      "  df['ds'] = pd.to_datetime(df['ds'])\n"
     ]
    }
   ],
   "source": [
    "df['ds'] = pd.to_datetime(df['ds'])"
   ]
  },
  {
   "cell_type": "code",
   "execution_count": null,
   "metadata": {},
   "outputs": [],
   "source": []
  },
  {
   "cell_type": "code",
   "execution_count": 45,
   "metadata": {},
   "outputs": [
    {
     "data": {
      "text/html": [
       "<div>\n",
       "<style scoped>\n",
       "    .dataframe tbody tr th:only-of-type {\n",
       "        vertical-align: middle;\n",
       "    }\n",
       "\n",
       "    .dataframe tbody tr th {\n",
       "        vertical-align: top;\n",
       "    }\n",
       "\n",
       "    .dataframe thead th {\n",
       "        text-align: right;\n",
       "    }\n",
       "</style>\n",
       "<table border=\"1\" class=\"dataframe\">\n",
       "  <thead>\n",
       "    <tr style=\"text-align: right;\">\n",
       "      <th></th>\n",
       "      <th>ds</th>\n",
       "      <th>y</th>\n",
       "    </tr>\n",
       "  </thead>\n",
       "  <tbody>\n",
       "    <tr>\n",
       "      <th>0</th>\n",
       "      <td>2003-02-24</td>\n",
       "      <td>2871.00</td>\n",
       "    </tr>\n",
       "    <tr>\n",
       "      <th>1</th>\n",
       "      <td>2003-05-07</td>\n",
       "      <td>2765.90</td>\n",
       "    </tr>\n",
       "    <tr>\n",
       "      <th>2</th>\n",
       "      <td>2003-07-01</td>\n",
       "      <td>3884.34</td>\n",
       "    </tr>\n",
       "    <tr>\n",
       "      <th>3</th>\n",
       "      <td>2003-08-25</td>\n",
       "      <td>3746.70</td>\n",
       "    </tr>\n",
       "    <tr>\n",
       "      <th>4</th>\n",
       "      <td>2003-10-10</td>\n",
       "      <td>5205.27</td>\n",
       "    </tr>\n",
       "  </tbody>\n",
       "</table>\n",
       "</div>"
      ],
      "text/plain": [
       "          ds        y\n",
       "0 2003-02-24  2871.00\n",
       "1 2003-05-07  2765.90\n",
       "2 2003-07-01  3884.34\n",
       "3 2003-08-25  3746.70\n",
       "4 2003-10-10  5205.27"
      ]
     },
     "execution_count": 45,
     "metadata": {},
     "output_type": "execute_result"
    }
   ],
   "source": [
    "df.head()"
   ]
  },
  {
   "cell_type": "code",
   "execution_count": 46,
   "metadata": {},
   "outputs": [
    {
     "data": {
      "text/html": [
       "<div>\n",
       "<style scoped>\n",
       "    .dataframe tbody tr th:only-of-type {\n",
       "        vertical-align: middle;\n",
       "    }\n",
       "\n",
       "    .dataframe tbody tr th {\n",
       "        vertical-align: top;\n",
       "    }\n",
       "\n",
       "    .dataframe thead th {\n",
       "        text-align: right;\n",
       "    }\n",
       "</style>\n",
       "<table border=\"1\" class=\"dataframe\">\n",
       "  <thead>\n",
       "    <tr style=\"text-align: right;\">\n",
       "      <th></th>\n",
       "      <th>ds</th>\n",
       "      <th>y</th>\n",
       "    </tr>\n",
       "  </thead>\n",
       "  <tbody>\n",
       "    <tr>\n",
       "      <th>2818</th>\n",
       "      <td>2004-12-02</td>\n",
       "      <td>2244.40</td>\n",
       "    </tr>\n",
       "    <tr>\n",
       "      <th>2819</th>\n",
       "      <td>2005-01-31</td>\n",
       "      <td>3978.51</td>\n",
       "    </tr>\n",
       "    <tr>\n",
       "      <th>2820</th>\n",
       "      <td>2005-03-01</td>\n",
       "      <td>5417.57</td>\n",
       "    </tr>\n",
       "    <tr>\n",
       "      <th>2821</th>\n",
       "      <td>2005-03-28</td>\n",
       "      <td>2116.16</td>\n",
       "    </tr>\n",
       "    <tr>\n",
       "      <th>2822</th>\n",
       "      <td>2005-05-06</td>\n",
       "      <td>3079.44</td>\n",
       "    </tr>\n",
       "  </tbody>\n",
       "</table>\n",
       "</div>"
      ],
      "text/plain": [
       "             ds        y\n",
       "2818 2004-12-02  2244.40\n",
       "2819 2005-01-31  3978.51\n",
       "2820 2005-03-01  5417.57\n",
       "2821 2005-03-28  2116.16\n",
       "2822 2005-05-06  3079.44"
      ]
     },
     "execution_count": 46,
     "metadata": {},
     "output_type": "execute_result"
    }
   ],
   "source": [
    "df.tail()"
   ]
  },
  {
   "cell_type": "code",
   "execution_count": 47,
   "metadata": {},
   "outputs": [],
   "source": [
    "from fbprophet import Prophet"
   ]
  },
  {
   "cell_type": "code",
   "execution_count": 48,
   "metadata": {},
   "outputs": [
    {
     "data": {
      "text/plain": [
       "['__class__',\n",
       " '__delattr__',\n",
       " '__dict__',\n",
       " '__dir__',\n",
       " '__doc__',\n",
       " '__eq__',\n",
       " '__format__',\n",
       " '__ge__',\n",
       " '__getattribute__',\n",
       " '__gt__',\n",
       " '__hash__',\n",
       " '__init__',\n",
       " '__init_subclass__',\n",
       " '__le__',\n",
       " '__lt__',\n",
       " '__module__',\n",
       " '__ne__',\n",
       " '__new__',\n",
       " '__reduce__',\n",
       " '__reduce_ex__',\n",
       " '__repr__',\n",
       " '__setattr__',\n",
       " '__sizeof__',\n",
       " '__str__',\n",
       " '__subclasshook__',\n",
       " '__weakref__',\n",
       " '_load_stan_backend',\n",
       " 'add_country_holidays',\n",
       " 'add_group_component',\n",
       " 'add_regressor',\n",
       " 'add_seasonality',\n",
       " 'construct_holiday_dataframe',\n",
       " 'fit',\n",
       " 'flat_growth_init',\n",
       " 'flat_trend',\n",
       " 'fourier_series',\n",
       " 'initialize_scales',\n",
       " 'linear_growth_init',\n",
       " 'logistic_growth_init',\n",
       " 'make_all_seasonality_features',\n",
       " 'make_future_dataframe',\n",
       " 'make_holiday_features',\n",
       " 'make_seasonality_features',\n",
       " 'parse_seasonality_args',\n",
       " 'percentile',\n",
       " 'piecewise_linear',\n",
       " 'piecewise_logistic',\n",
       " 'plot',\n",
       " 'plot_components',\n",
       " 'predict',\n",
       " 'predict_seasonal_components',\n",
       " 'predict_trend',\n",
       " 'predict_uncertainty',\n",
       " 'predictive_samples',\n",
       " 'regressor_column_matrix',\n",
       " 'sample_model',\n",
       " 'sample_posterior_predictive',\n",
       " 'sample_predictive_trend',\n",
       " 'set_auto_seasonalities',\n",
       " 'set_changepoints',\n",
       " 'setup_dataframe',\n",
       " 'validate_column_name',\n",
       " 'validate_inputs']"
      ]
     },
     "execution_count": 48,
     "metadata": {},
     "output_type": "execute_result"
    }
   ],
   "source": [
    "dir(Prophet)"
   ]
  },
  {
   "cell_type": "code",
   "execution_count": 49,
   "metadata": {},
   "outputs": [],
   "source": [
    "# Initialize the Model\n",
    "model=Prophet()"
   ]
  },
  {
   "cell_type": "code",
   "execution_count": 50,
   "metadata": {},
   "outputs": [
    {
     "data": {
      "text/plain": [
       "Index(['ds', 'y'], dtype='object')"
      ]
     },
     "execution_count": 50,
     "metadata": {},
     "output_type": "execute_result"
    }
   ],
   "source": [
    "df.columns"
   ]
  },
  {
   "cell_type": "code",
   "execution_count": 51,
   "metadata": {},
   "outputs": [
    {
     "name": "stderr",
     "output_type": "stream",
     "text": [
      "C:\\Users\\sr528\\anaconda3\\lib\\site-packages\\pandas\\util\\_decorators.py:311: SettingWithCopyWarning: \n",
      "A value is trying to be set on a copy of a slice from a DataFrame\n",
      "\n",
      "See the caveats in the documentation: https://pandas.pydata.org/pandas-docs/stable/user_guide/indexing.html#returning-a-view-versus-a-copy\n",
      "  return func(*args, **kwargs)\n"
     ]
    }
   ],
   "source": [
    "df.dropna(axis=0,inplace=True)"
   ]
  },
  {
   "cell_type": "code",
   "execution_count": 52,
   "metadata": {},
   "outputs": [
    {
     "data": {
      "text/html": [
       "<div>\n",
       "<style scoped>\n",
       "    .dataframe tbody tr th:only-of-type {\n",
       "        vertical-align: middle;\n",
       "    }\n",
       "\n",
       "    .dataframe tbody tr th {\n",
       "        vertical-align: top;\n",
       "    }\n",
       "\n",
       "    .dataframe thead th {\n",
       "        text-align: right;\n",
       "    }\n",
       "</style>\n",
       "<table border=\"1\" class=\"dataframe\">\n",
       "  <thead>\n",
       "    <tr style=\"text-align: right;\">\n",
       "      <th></th>\n",
       "      <th>ds</th>\n",
       "      <th>y</th>\n",
       "    </tr>\n",
       "  </thead>\n",
       "  <tbody>\n",
       "    <tr>\n",
       "      <th>0</th>\n",
       "      <td>2003-02-24</td>\n",
       "      <td>2871.00</td>\n",
       "    </tr>\n",
       "    <tr>\n",
       "      <th>1</th>\n",
       "      <td>2003-05-07</td>\n",
       "      <td>2765.90</td>\n",
       "    </tr>\n",
       "    <tr>\n",
       "      <th>2</th>\n",
       "      <td>2003-07-01</td>\n",
       "      <td>3884.34</td>\n",
       "    </tr>\n",
       "    <tr>\n",
       "      <th>3</th>\n",
       "      <td>2003-08-25</td>\n",
       "      <td>3746.70</td>\n",
       "    </tr>\n",
       "    <tr>\n",
       "      <th>4</th>\n",
       "      <td>2003-10-10</td>\n",
       "      <td>5205.27</td>\n",
       "    </tr>\n",
       "  </tbody>\n",
       "</table>\n",
       "</div>"
      ],
      "text/plain": [
       "          ds        y\n",
       "0 2003-02-24  2871.00\n",
       "1 2003-05-07  2765.90\n",
       "2 2003-07-01  3884.34\n",
       "3 2003-08-25  3746.70\n",
       "4 2003-10-10  5205.27"
      ]
     },
     "execution_count": 52,
     "metadata": {},
     "output_type": "execute_result"
    }
   ],
   "source": [
    "df.head()"
   ]
  },
  {
   "cell_type": "code",
   "execution_count": 53,
   "metadata": {},
   "outputs": [
    {
     "name": "stderr",
     "output_type": "stream",
     "text": [
      "INFO:fbprophet:Disabling daily seasonality. Run prophet with daily_seasonality=True to override this.\n"
     ]
    },
    {
     "data": {
      "text/plain": [
       "<fbprophet.forecaster.Prophet at 0x249e31a67c0>"
      ]
     },
     "execution_count": 53,
     "metadata": {},
     "output_type": "execute_result"
    }
   ],
   "source": [
    "model.fit(df)"
   ]
  },
  {
   "cell_type": "code",
   "execution_count": 54,
   "metadata": {},
   "outputs": [
    {
     "data": {
      "text/plain": [
       "{'additive': ['yearly',\n",
       "  'weekly',\n",
       "  'additive_terms',\n",
       "  'extra_regressors_additive',\n",
       "  'holidays'],\n",
       " 'multiplicative': ['multiplicative_terms', 'extra_regressors_multiplicative']}"
      ]
     },
     "execution_count": 54,
     "metadata": {},
     "output_type": "execute_result"
    }
   ],
   "source": [
    "model.component_modes"
   ]
  },
  {
   "cell_type": "code",
   "execution_count": 55,
   "metadata": {},
   "outputs": [
    {
     "data": {
      "text/html": [
       "<div>\n",
       "<style scoped>\n",
       "    .dataframe tbody tr th:only-of-type {\n",
       "        vertical-align: middle;\n",
       "    }\n",
       "\n",
       "    .dataframe tbody tr th {\n",
       "        vertical-align: top;\n",
       "    }\n",
       "\n",
       "    .dataframe thead th {\n",
       "        text-align: right;\n",
       "    }\n",
       "</style>\n",
       "<table border=\"1\" class=\"dataframe\">\n",
       "  <thead>\n",
       "    <tr style=\"text-align: right;\">\n",
       "      <th></th>\n",
       "      <th>ds</th>\n",
       "      <th>y</th>\n",
       "    </tr>\n",
       "  </thead>\n",
       "  <tbody>\n",
       "    <tr>\n",
       "      <th>2818</th>\n",
       "      <td>2004-12-02</td>\n",
       "      <td>2244.40</td>\n",
       "    </tr>\n",
       "    <tr>\n",
       "      <th>2819</th>\n",
       "      <td>2005-01-31</td>\n",
       "      <td>3978.51</td>\n",
       "    </tr>\n",
       "    <tr>\n",
       "      <th>2820</th>\n",
       "      <td>2005-03-01</td>\n",
       "      <td>5417.57</td>\n",
       "    </tr>\n",
       "    <tr>\n",
       "      <th>2821</th>\n",
       "      <td>2005-03-28</td>\n",
       "      <td>2116.16</td>\n",
       "    </tr>\n",
       "    <tr>\n",
       "      <th>2822</th>\n",
       "      <td>2005-05-06</td>\n",
       "      <td>3079.44</td>\n",
       "    </tr>\n",
       "  </tbody>\n",
       "</table>\n",
       "</div>"
      ],
      "text/plain": [
       "             ds        y\n",
       "2818 2004-12-02  2244.40\n",
       "2819 2005-01-31  3978.51\n",
       "2820 2005-03-01  5417.57\n",
       "2821 2005-03-28  2116.16\n",
       "2822 2005-05-06  3079.44"
      ]
     },
     "execution_count": 55,
     "metadata": {},
     "output_type": "execute_result"
    }
   ],
   "source": [
    "df.tail()"
   ]
  },
  {
   "cell_type": "code",
   "execution_count": 56,
   "metadata": {},
   "outputs": [],
   "source": [
    "### Create future dates of 365 days\n",
    "future_dates=model.make_future_dataframe(periods=365)"
   ]
  },
  {
   "cell_type": "code",
   "execution_count": 57,
   "metadata": {},
   "outputs": [
    {
     "data": {
      "text/html": [
       "<div>\n",
       "<style scoped>\n",
       "    .dataframe tbody tr th:only-of-type {\n",
       "        vertical-align: middle;\n",
       "    }\n",
       "\n",
       "    .dataframe tbody tr th {\n",
       "        vertical-align: top;\n",
       "    }\n",
       "\n",
       "    .dataframe thead th {\n",
       "        text-align: right;\n",
       "    }\n",
       "</style>\n",
       "<table border=\"1\" class=\"dataframe\">\n",
       "  <thead>\n",
       "    <tr style=\"text-align: right;\">\n",
       "      <th></th>\n",
       "      <th>ds</th>\n",
       "    </tr>\n",
       "  </thead>\n",
       "  <tbody>\n",
       "    <tr>\n",
       "      <th>612</th>\n",
       "      <td>2006-05-27</td>\n",
       "    </tr>\n",
       "    <tr>\n",
       "      <th>613</th>\n",
       "      <td>2006-05-28</td>\n",
       "    </tr>\n",
       "    <tr>\n",
       "      <th>614</th>\n",
       "      <td>2006-05-29</td>\n",
       "    </tr>\n",
       "    <tr>\n",
       "      <th>615</th>\n",
       "      <td>2006-05-30</td>\n",
       "    </tr>\n",
       "    <tr>\n",
       "      <th>616</th>\n",
       "      <td>2006-05-31</td>\n",
       "    </tr>\n",
       "  </tbody>\n",
       "</table>\n",
       "</div>"
      ],
      "text/plain": [
       "            ds\n",
       "612 2006-05-27\n",
       "613 2006-05-28\n",
       "614 2006-05-29\n",
       "615 2006-05-30\n",
       "616 2006-05-31"
      ]
     },
     "execution_count": 57,
     "metadata": {},
     "output_type": "execute_result"
    }
   ],
   "source": [
    "future_dates.tail()"
   ]
  },
  {
   "cell_type": "code",
   "execution_count": 58,
   "metadata": {},
   "outputs": [],
   "source": [
    "prediction=model.predict(future_dates)"
   ]
  },
  {
   "cell_type": "code",
   "execution_count": 59,
   "metadata": {},
   "outputs": [
    {
     "data": {
      "text/html": [
       "<div>\n",
       "<style scoped>\n",
       "    .dataframe tbody tr th:only-of-type {\n",
       "        vertical-align: middle;\n",
       "    }\n",
       "\n",
       "    .dataframe tbody tr th {\n",
       "        vertical-align: top;\n",
       "    }\n",
       "\n",
       "    .dataframe thead th {\n",
       "        text-align: right;\n",
       "    }\n",
       "</style>\n",
       "<table border=\"1\" class=\"dataframe\">\n",
       "  <thead>\n",
       "    <tr style=\"text-align: right;\">\n",
       "      <th></th>\n",
       "      <th>ds</th>\n",
       "      <th>trend</th>\n",
       "      <th>yhat_lower</th>\n",
       "      <th>yhat_upper</th>\n",
       "      <th>trend_lower</th>\n",
       "      <th>trend_upper</th>\n",
       "      <th>additive_terms</th>\n",
       "      <th>additive_terms_lower</th>\n",
       "      <th>additive_terms_upper</th>\n",
       "      <th>weekly</th>\n",
       "      <th>weekly_lower</th>\n",
       "      <th>weekly_upper</th>\n",
       "      <th>yearly</th>\n",
       "      <th>yearly_lower</th>\n",
       "      <th>yearly_upper</th>\n",
       "      <th>multiplicative_terms</th>\n",
       "      <th>multiplicative_terms_lower</th>\n",
       "      <th>multiplicative_terms_upper</th>\n",
       "      <th>yhat</th>\n",
       "    </tr>\n",
       "  </thead>\n",
       "  <tbody>\n",
       "    <tr>\n",
       "      <th>0</th>\n",
       "      <td>2003-01-06</td>\n",
       "      <td>3416.248592</td>\n",
       "      <td>897.420122</td>\n",
       "      <td>5543.915722</td>\n",
       "      <td>3416.248592</td>\n",
       "      <td>3416.248592</td>\n",
       "      <td>-249.641572</td>\n",
       "      <td>-249.641572</td>\n",
       "      <td>-249.641572</td>\n",
       "      <td>-73.161778</td>\n",
       "      <td>-73.161778</td>\n",
       "      <td>-73.161778</td>\n",
       "      <td>-176.479795</td>\n",
       "      <td>-176.479795</td>\n",
       "      <td>-176.479795</td>\n",
       "      <td>0.0</td>\n",
       "      <td>0.0</td>\n",
       "      <td>0.0</td>\n",
       "      <td>3166.607019</td>\n",
       "    </tr>\n",
       "    <tr>\n",
       "      <th>1</th>\n",
       "      <td>2003-01-09</td>\n",
       "      <td>3416.807579</td>\n",
       "      <td>954.680028</td>\n",
       "      <td>5735.160339</td>\n",
       "      <td>3416.807579</td>\n",
       "      <td>3416.807579</td>\n",
       "      <td>-66.634326</td>\n",
       "      <td>-66.634326</td>\n",
       "      <td>-66.634326</td>\n",
       "      <td>103.008197</td>\n",
       "      <td>103.008197</td>\n",
       "      <td>103.008197</td>\n",
       "      <td>-169.642524</td>\n",
       "      <td>-169.642524</td>\n",
       "      <td>-169.642524</td>\n",
       "      <td>0.0</td>\n",
       "      <td>0.0</td>\n",
       "      <td>0.0</td>\n",
       "      <td>3350.173253</td>\n",
       "    </tr>\n",
       "    <tr>\n",
       "      <th>2</th>\n",
       "      <td>2003-01-10</td>\n",
       "      <td>3416.993908</td>\n",
       "      <td>1134.806184</td>\n",
       "      <td>5653.526938</td>\n",
       "      <td>3416.993908</td>\n",
       "      <td>3416.993908</td>\n",
       "      <td>-89.945037</td>\n",
       "      <td>-89.945037</td>\n",
       "      <td>-89.945037</td>\n",
       "      <td>76.500742</td>\n",
       "      <td>76.500742</td>\n",
       "      <td>76.500742</td>\n",
       "      <td>-166.445778</td>\n",
       "      <td>-166.445778</td>\n",
       "      <td>-166.445778</td>\n",
       "      <td>0.0</td>\n",
       "      <td>0.0</td>\n",
       "      <td>0.0</td>\n",
       "      <td>3327.048872</td>\n",
       "    </tr>\n",
       "    <tr>\n",
       "      <th>3</th>\n",
       "      <td>2003-01-29</td>\n",
       "      <td>3420.534161</td>\n",
       "      <td>1002.778067</td>\n",
       "      <td>5708.873790</td>\n",
       "      <td>3420.534161</td>\n",
       "      <td>3420.534161</td>\n",
       "      <td>-3.612320</td>\n",
       "      <td>-3.612320</td>\n",
       "      <td>-3.612320</td>\n",
       "      <td>-82.848162</td>\n",
       "      <td>-82.848162</td>\n",
       "      <td>-82.848162</td>\n",
       "      <td>79.235842</td>\n",
       "      <td>79.235842</td>\n",
       "      <td>79.235842</td>\n",
       "      <td>0.0</td>\n",
       "      <td>0.0</td>\n",
       "      <td>0.0</td>\n",
       "      <td>3416.921841</td>\n",
       "    </tr>\n",
       "    <tr>\n",
       "      <th>4</th>\n",
       "      <td>2003-01-31</td>\n",
       "      <td>3420.906820</td>\n",
       "      <td>1212.215399</td>\n",
       "      <td>5928.637767</td>\n",
       "      <td>3420.906820</td>\n",
       "      <td>3420.906820</td>\n",
       "      <td>179.802513</td>\n",
       "      <td>179.802513</td>\n",
       "      <td>179.802513</td>\n",
       "      <td>76.500742</td>\n",
       "      <td>76.500742</td>\n",
       "      <td>76.500742</td>\n",
       "      <td>103.301771</td>\n",
       "      <td>103.301771</td>\n",
       "      <td>103.301771</td>\n",
       "      <td>0.0</td>\n",
       "      <td>0.0</td>\n",
       "      <td>0.0</td>\n",
       "      <td>3600.709333</td>\n",
       "    </tr>\n",
       "  </tbody>\n",
       "</table>\n",
       "</div>"
      ],
      "text/plain": [
       "          ds        trend   yhat_lower   yhat_upper  trend_lower  trend_upper  \\\n",
       "0 2003-01-06  3416.248592   897.420122  5543.915722  3416.248592  3416.248592   \n",
       "1 2003-01-09  3416.807579   954.680028  5735.160339  3416.807579  3416.807579   \n",
       "2 2003-01-10  3416.993908  1134.806184  5653.526938  3416.993908  3416.993908   \n",
       "3 2003-01-29  3420.534161  1002.778067  5708.873790  3420.534161  3420.534161   \n",
       "4 2003-01-31  3420.906820  1212.215399  5928.637767  3420.906820  3420.906820   \n",
       "\n",
       "   additive_terms  additive_terms_lower  additive_terms_upper      weekly  \\\n",
       "0     -249.641572           -249.641572           -249.641572  -73.161778   \n",
       "1      -66.634326            -66.634326            -66.634326  103.008197   \n",
       "2      -89.945037            -89.945037            -89.945037   76.500742   \n",
       "3       -3.612320             -3.612320             -3.612320  -82.848162   \n",
       "4      179.802513            179.802513            179.802513   76.500742   \n",
       "\n",
       "   weekly_lower  weekly_upper      yearly  yearly_lower  yearly_upper  \\\n",
       "0    -73.161778    -73.161778 -176.479795   -176.479795   -176.479795   \n",
       "1    103.008197    103.008197 -169.642524   -169.642524   -169.642524   \n",
       "2     76.500742     76.500742 -166.445778   -166.445778   -166.445778   \n",
       "3    -82.848162    -82.848162   79.235842     79.235842     79.235842   \n",
       "4     76.500742     76.500742  103.301771    103.301771    103.301771   \n",
       "\n",
       "   multiplicative_terms  multiplicative_terms_lower  \\\n",
       "0                   0.0                         0.0   \n",
       "1                   0.0                         0.0   \n",
       "2                   0.0                         0.0   \n",
       "3                   0.0                         0.0   \n",
       "4                   0.0                         0.0   \n",
       "\n",
       "   multiplicative_terms_upper         yhat  \n",
       "0                         0.0  3166.607019  \n",
       "1                         0.0  3350.173253  \n",
       "2                         0.0  3327.048872  \n",
       "3                         0.0  3416.921841  \n",
       "4                         0.0  3600.709333  "
      ]
     },
     "execution_count": 59,
     "metadata": {},
     "output_type": "execute_result"
    }
   ],
   "source": [
    "prediction.head()"
   ]
  },
  {
   "cell_type": "code",
   "execution_count": 60,
   "metadata": {},
   "outputs": [],
   "source": [
    "a = prediction[[\"ds\", \"yhat\"]]"
   ]
  },
  {
   "cell_type": "code",
   "execution_count": 61,
   "metadata": {},
   "outputs": [
    {
     "data": {
      "application/vnd.plotly.v1+json": {
       "config": {
        "plotlyServerURL": "https://plot.ly"
       },
       "data": [
        {
         "hovertemplate": "x=%{x}<br>y=%{y}<extra></extra>",
         "legendgroup": "",
         "line": {
          "color": "#636efa",
          "dash": "solid"
         },
         "marker": {
          "symbol": "circle"
         },
         "mode": "lines",
         "name": "",
         "orientation": "v",
         "showlegend": false,
         "type": "scatter",
         "x": [
          "2003-01-06T00:00:00",
          "2003-01-09T00:00:00",
          "2003-01-10T00:00:00",
          "2003-01-29T00:00:00",
          "2003-01-31T00:00:00",
          "2003-02-11T00:00:00",
          "2003-02-17T00:00:00",
          "2003-02-24T00:00:00",
          "2003-03-03T00:00:00",
          "2003-03-10T00:00:00",
          "2003-03-18T00:00:00",
          "2003-03-24T00:00:00",
          "2003-03-25T00:00:00",
          "2003-03-26T00:00:00",
          "2003-04-01T00:00:00",
          "2003-04-04T00:00:00",
          "2003-04-11T00:00:00",
          "2003-04-16T00:00:00",
          "2003-04-21T00:00:00",
          "2003-04-28T00:00:00",
          "2003-04-29T00:00:00",
          "2003-05-07T00:00:00",
          "2003-05-08T00:00:00",
          "2003-05-20T00:00:00",
          "2003-05-21T00:00:00",
          "2003-05-28T00:00:00",
          "2003-06-03T00:00:00",
          "2003-06-06T00:00:00",
          "2003-06-12T00:00:00",
          "2003-06-16T00:00:00",
          "2003-06-27T00:00:00",
          "2003-07-01T00:00:00",
          "2003-07-02T00:00:00",
          "2003-07-04T00:00:00",
          "2003-07-10T00:00:00",
          "2003-07-16T00:00:00",
          "2003-07-24T00:00:00",
          "2003-08-01T00:00:00",
          "2003-08-08T00:00:00",
          "2003-08-10T00:00:00",
          "2003-08-13T00:00:00",
          "2003-08-25T00:00:00",
          "2003-09-03T00:00:00",
          "2003-09-05T00:00:00",
          "2003-09-11T00:00:00",
          "2003-09-12T00:00:00",
          "2003-09-19T00:00:00",
          "2003-09-21T00:00:00",
          "2003-09-25T00:00:00",
          "2003-09-28T00:00:00",
          "2003-10-02T00:00:00",
          "2003-10-04T00:00:00",
          "2003-10-05T00:00:00",
          "2003-10-06T00:00:00",
          "2003-10-08T00:00:00",
          "2003-10-10T00:00:00",
          "2003-10-11T00:00:00",
          "2003-10-17T00:00:00",
          "2003-10-18T00:00:00",
          "2003-10-20T00:00:00",
          "2003-10-21T00:00:00",
          "2003-10-22T00:00:00",
          "2003-10-23T00:00:00",
          "2003-10-28T00:00:00",
          "2003-11-04T00:00:00",
          "2003-11-05T00:00:00",
          "2003-11-06T00:00:00",
          "2003-11-07T00:00:00",
          "2003-11-08T00:00:00",
          "2003-11-11T00:00:00",
          "2003-11-12T00:00:00",
          "2003-11-13T00:00:00",
          "2003-11-14T00:00:00",
          "2003-11-18T00:00:00",
          "2003-11-19T00:00:00",
          "2003-11-20T00:00:00",
          "2003-11-21T00:00:00",
          "2003-11-25T00:00:00",
          "2003-11-26T00:00:00",
          "2003-11-27T00:00:00",
          "2003-12-01T00:00:00",
          "2003-12-02T00:00:00",
          "2003-12-03T00:00:00",
          "2003-12-05T00:00:00",
          "2003-12-09T00:00:00",
          "2004-01-02T00:00:00",
          "2004-01-09T00:00:00",
          "2004-01-12T00:00:00",
          "2004-01-15T00:00:00",
          "2004-01-16T00:00:00",
          "2004-01-22T00:00:00",
          "2004-01-26T00:00:00",
          "2004-01-29T00:00:00",
          "2004-02-02T00:00:00",
          "2004-02-04T00:00:00",
          "2004-02-10T00:00:00",
          "2004-02-12T00:00:00",
          "2004-02-18T00:00:00",
          "2004-02-19T00:00:00",
          "2004-02-20T00:00:00",
          "2004-02-21T00:00:00",
          "2004-02-22T00:00:00",
          "2004-02-26T00:00:00",
          "2004-03-02T00:00:00",
          "2004-03-10T00:00:00",
          "2004-03-11T00:00:00",
          "2004-03-15T00:00:00",
          "2004-03-19T00:00:00",
          "2004-03-20T00:00:00",
          "2004-03-29T00:00:00",
          "2004-04-02T00:00:00",
          "2004-04-03T00:00:00",
          "2004-04-05T00:00:00",
          "2004-04-09T00:00:00",
          "2004-04-12T00:00:00",
          "2004-04-13T00:00:00",
          "2004-04-20T00:00:00",
          "2004-04-26T00:00:00",
          "2004-04-29T00:00:00",
          "2004-05-04T00:00:00",
          "2004-05-05T00:00:00",
          "2004-05-07T00:00:00",
          "2004-05-08T00:00:00",
          "2004-05-11T00:00:00",
          "2004-05-18T00:00:00",
          "2004-05-26T00:00:00",
          "2004-06-01T00:00:00",
          "2004-06-04T00:00:00",
          "2004-06-08T00:00:00",
          "2004-06-14T00:00:00",
          "2004-06-15T00:00:00",
          "2004-06-17T00:00:00",
          "2004-06-24T00:00:00",
          "2004-06-28T00:00:00",
          "2004-06-30T00:00:00",
          "2004-07-02T00:00:00",
          "2004-07-06T00:00:00",
          "2004-07-07T00:00:00",
          "2004-07-16T00:00:00",
          "2004-07-19T00:00:00",
          "2004-07-20T00:00:00",
          "2004-07-21T00:00:00",
          "2004-07-23T00:00:00",
          "2004-08-02T00:00:00",
          "2004-08-04T00:00:00",
          "2004-08-06T00:00:00",
          "2004-08-09T00:00:00",
          "2004-08-17T00:00:00",
          "2004-08-19T00:00:00",
          "2004-08-20T00:00:00",
          "2004-08-21T00:00:00",
          "2004-08-27T00:00:00",
          "2004-08-28T00:00:00",
          "2004-08-30T00:00:00",
          "2004-09-01T00:00:00",
          "2004-09-03T00:00:00",
          "2004-09-07T00:00:00",
          "2004-09-08T00:00:00",
          "2004-09-09T00:00:00",
          "2004-09-10T00:00:00",
          "2004-09-15T00:00:00",
          "2004-09-16T00:00:00",
          "2004-09-27T00:00:00",
          "2004-09-30T00:00:00",
          "2004-10-06T00:00:00",
          "2004-10-11T00:00:00",
          "2004-10-13T00:00:00",
          "2004-10-14T00:00:00",
          "2004-10-15T00:00:00",
          "2004-10-16T00:00:00",
          "2004-10-21T00:00:00",
          "2004-10-22T00:00:00",
          "2004-10-29T00:00:00",
          "2004-11-01T00:00:00",
          "2004-11-02T00:00:00",
          "2004-11-03T00:00:00",
          "2004-11-04T00:00:00",
          "2004-11-05T00:00:00",
          "2004-11-09T00:00:00",
          "2004-11-10T00:00:00",
          "2004-11-12T00:00:00",
          "2004-11-15T00:00:00",
          "2004-11-16T00:00:00",
          "2004-11-17T00:00:00",
          "2004-11-18T00:00:00",
          "2004-11-19T00:00:00",
          "2004-11-20T00:00:00",
          "2004-11-21T00:00:00",
          "2004-11-22T00:00:00",
          "2004-11-23T00:00:00",
          "2004-11-24T00:00:00",
          "2004-11-25T00:00:00",
          "2004-11-29T00:00:00",
          "2004-12-01T00:00:00",
          "2004-12-02T00:00:00",
          "2004-12-03T00:00:00",
          "2004-12-04T00:00:00",
          "2004-12-07T00:00:00",
          "2004-12-09T00:00:00",
          "2004-12-10T00:00:00",
          "2004-12-15T00:00:00",
          "2004-12-17T00:00:00",
          "2005-01-05T00:00:00",
          "2005-01-06T00:00:00",
          "2005-01-07T00:00:00",
          "2005-01-10T00:00:00",
          "2005-01-12T00:00:00",
          "2005-01-19T00:00:00",
          "2005-01-20T00:00:00",
          "2005-01-23T00:00:00",
          "2005-01-26T00:00:00",
          "2005-01-31T00:00:00",
          "2005-02-02T00:00:00",
          "2005-02-03T00:00:00",
          "2005-02-08T00:00:00",
          "2005-02-09T00:00:00",
          "2005-02-10T00:00:00",
          "2005-02-16T00:00:00",
          "2005-02-17T00:00:00",
          "2005-02-22T00:00:00",
          "2005-02-23T00:00:00",
          "2005-02-28T00:00:00",
          "2005-03-01T00:00:00",
          "2005-03-02T00:00:00",
          "2005-03-03T00:00:00",
          "2005-03-04T00:00:00",
          "2005-03-09T00:00:00",
          "2005-03-10T00:00:00",
          "2005-03-15T00:00:00",
          "2005-03-17T00:00:00",
          "2005-03-23T00:00:00",
          "2005-03-28T00:00:00",
          "2005-03-30T00:00:00",
          "2005-04-01T00:00:00",
          "2005-04-03T00:00:00",
          "2005-04-07T00:00:00",
          "2005-04-08T00:00:00",
          "2005-04-14T00:00:00",
          "2005-04-15T00:00:00",
          "2005-04-22T00:00:00",
          "2005-04-23T00:00:00",
          "2005-05-01T00:00:00",
          "2005-05-03T00:00:00",
          "2005-05-05T00:00:00",
          "2005-05-06T00:00:00",
          "2005-05-09T00:00:00",
          "2005-05-10T00:00:00",
          "2005-05-13T00:00:00",
          "2005-05-17T00:00:00",
          "2005-05-29T00:00:00",
          "2005-05-30T00:00:00",
          "2005-05-31T00:00:00",
          "2005-06-01T00:00:00",
          "2005-06-02T00:00:00",
          "2005-06-03T00:00:00",
          "2005-06-04T00:00:00",
          "2005-06-05T00:00:00",
          "2005-06-06T00:00:00",
          "2005-06-07T00:00:00",
          "2005-06-08T00:00:00",
          "2005-06-09T00:00:00",
          "2005-06-10T00:00:00",
          "2005-06-11T00:00:00",
          "2005-06-12T00:00:00",
          "2005-06-13T00:00:00",
          "2005-06-14T00:00:00",
          "2005-06-15T00:00:00",
          "2005-06-16T00:00:00",
          "2005-06-17T00:00:00",
          "2005-06-18T00:00:00",
          "2005-06-19T00:00:00",
          "2005-06-20T00:00:00",
          "2005-06-21T00:00:00",
          "2005-06-22T00:00:00",
          "2005-06-23T00:00:00",
          "2005-06-24T00:00:00",
          "2005-06-25T00:00:00",
          "2005-06-26T00:00:00",
          "2005-06-27T00:00:00",
          "2005-06-28T00:00:00",
          "2005-06-29T00:00:00",
          "2005-06-30T00:00:00",
          "2005-07-01T00:00:00",
          "2005-07-02T00:00:00",
          "2005-07-03T00:00:00",
          "2005-07-04T00:00:00",
          "2005-07-05T00:00:00",
          "2005-07-06T00:00:00",
          "2005-07-07T00:00:00",
          "2005-07-08T00:00:00",
          "2005-07-09T00:00:00",
          "2005-07-10T00:00:00",
          "2005-07-11T00:00:00",
          "2005-07-12T00:00:00",
          "2005-07-13T00:00:00",
          "2005-07-14T00:00:00",
          "2005-07-15T00:00:00",
          "2005-07-16T00:00:00",
          "2005-07-17T00:00:00",
          "2005-07-18T00:00:00",
          "2005-07-19T00:00:00",
          "2005-07-20T00:00:00",
          "2005-07-21T00:00:00",
          "2005-07-22T00:00:00",
          "2005-07-23T00:00:00",
          "2005-07-24T00:00:00",
          "2005-07-25T00:00:00",
          "2005-07-26T00:00:00",
          "2005-07-27T00:00:00",
          "2005-07-28T00:00:00",
          "2005-07-29T00:00:00",
          "2005-07-30T00:00:00",
          "2005-07-31T00:00:00",
          "2005-08-01T00:00:00",
          "2005-08-02T00:00:00",
          "2005-08-03T00:00:00",
          "2005-08-04T00:00:00",
          "2005-08-05T00:00:00",
          "2005-08-06T00:00:00",
          "2005-08-07T00:00:00",
          "2005-08-08T00:00:00",
          "2005-08-09T00:00:00",
          "2005-08-10T00:00:00",
          "2005-08-11T00:00:00",
          "2005-08-12T00:00:00",
          "2005-08-13T00:00:00",
          "2005-08-14T00:00:00",
          "2005-08-15T00:00:00",
          "2005-08-16T00:00:00",
          "2005-08-17T00:00:00",
          "2005-08-18T00:00:00",
          "2005-08-19T00:00:00",
          "2005-08-20T00:00:00",
          "2005-08-21T00:00:00",
          "2005-08-22T00:00:00",
          "2005-08-23T00:00:00",
          "2005-08-24T00:00:00",
          "2005-08-25T00:00:00",
          "2005-08-26T00:00:00",
          "2005-08-27T00:00:00",
          "2005-08-28T00:00:00",
          "2005-08-29T00:00:00",
          "2005-08-30T00:00:00",
          "2005-08-31T00:00:00",
          "2005-09-01T00:00:00",
          "2005-09-02T00:00:00",
          "2005-09-03T00:00:00",
          "2005-09-04T00:00:00",
          "2005-09-05T00:00:00",
          "2005-09-06T00:00:00",
          "2005-09-07T00:00:00",
          "2005-09-08T00:00:00",
          "2005-09-09T00:00:00",
          "2005-09-10T00:00:00",
          "2005-09-11T00:00:00",
          "2005-09-12T00:00:00",
          "2005-09-13T00:00:00",
          "2005-09-14T00:00:00",
          "2005-09-15T00:00:00",
          "2005-09-16T00:00:00",
          "2005-09-17T00:00:00",
          "2005-09-18T00:00:00",
          "2005-09-19T00:00:00",
          "2005-09-20T00:00:00",
          "2005-09-21T00:00:00",
          "2005-09-22T00:00:00",
          "2005-09-23T00:00:00",
          "2005-09-24T00:00:00",
          "2005-09-25T00:00:00",
          "2005-09-26T00:00:00",
          "2005-09-27T00:00:00",
          "2005-09-28T00:00:00",
          "2005-09-29T00:00:00",
          "2005-09-30T00:00:00",
          "2005-10-01T00:00:00",
          "2005-10-02T00:00:00",
          "2005-10-03T00:00:00",
          "2005-10-04T00:00:00",
          "2005-10-05T00:00:00",
          "2005-10-06T00:00:00",
          "2005-10-07T00:00:00",
          "2005-10-08T00:00:00",
          "2005-10-09T00:00:00",
          "2005-10-10T00:00:00",
          "2005-10-11T00:00:00",
          "2005-10-12T00:00:00",
          "2005-10-13T00:00:00",
          "2005-10-14T00:00:00",
          "2005-10-15T00:00:00",
          "2005-10-16T00:00:00",
          "2005-10-17T00:00:00",
          "2005-10-18T00:00:00",
          "2005-10-19T00:00:00",
          "2005-10-20T00:00:00",
          "2005-10-21T00:00:00",
          "2005-10-22T00:00:00",
          "2005-10-23T00:00:00",
          "2005-10-24T00:00:00",
          "2005-10-25T00:00:00",
          "2005-10-26T00:00:00",
          "2005-10-27T00:00:00",
          "2005-10-28T00:00:00",
          "2005-10-29T00:00:00",
          "2005-10-30T00:00:00",
          "2005-10-31T00:00:00",
          "2005-11-01T00:00:00",
          "2005-11-02T00:00:00",
          "2005-11-03T00:00:00",
          "2005-11-04T00:00:00",
          "2005-11-05T00:00:00",
          "2005-11-06T00:00:00",
          "2005-11-07T00:00:00",
          "2005-11-08T00:00:00",
          "2005-11-09T00:00:00",
          "2005-11-10T00:00:00",
          "2005-11-11T00:00:00",
          "2005-11-12T00:00:00",
          "2005-11-13T00:00:00",
          "2005-11-14T00:00:00",
          "2005-11-15T00:00:00",
          "2005-11-16T00:00:00",
          "2005-11-17T00:00:00",
          "2005-11-18T00:00:00",
          "2005-11-19T00:00:00",
          "2005-11-20T00:00:00",
          "2005-11-21T00:00:00",
          "2005-11-22T00:00:00",
          "2005-11-23T00:00:00",
          "2005-11-24T00:00:00",
          "2005-11-25T00:00:00",
          "2005-11-26T00:00:00",
          "2005-11-27T00:00:00",
          "2005-11-28T00:00:00",
          "2005-11-29T00:00:00",
          "2005-11-30T00:00:00",
          "2005-12-01T00:00:00",
          "2005-12-02T00:00:00",
          "2005-12-03T00:00:00",
          "2005-12-04T00:00:00",
          "2005-12-05T00:00:00",
          "2005-12-06T00:00:00",
          "2005-12-07T00:00:00",
          "2005-12-08T00:00:00",
          "2005-12-09T00:00:00",
          "2005-12-10T00:00:00",
          "2005-12-11T00:00:00",
          "2005-12-12T00:00:00",
          "2005-12-13T00:00:00",
          "2005-12-14T00:00:00",
          "2005-12-15T00:00:00",
          "2005-12-16T00:00:00",
          "2005-12-17T00:00:00",
          "2005-12-18T00:00:00",
          "2005-12-19T00:00:00",
          "2005-12-20T00:00:00",
          "2005-12-21T00:00:00",
          "2005-12-22T00:00:00",
          "2005-12-23T00:00:00",
          "2005-12-24T00:00:00",
          "2005-12-25T00:00:00",
          "2005-12-26T00:00:00",
          "2005-12-27T00:00:00",
          "2005-12-28T00:00:00",
          "2005-12-29T00:00:00",
          "2005-12-30T00:00:00",
          "2005-12-31T00:00:00",
          "2006-01-01T00:00:00",
          "2006-01-02T00:00:00",
          "2006-01-03T00:00:00",
          "2006-01-04T00:00:00",
          "2006-01-05T00:00:00",
          "2006-01-06T00:00:00",
          "2006-01-07T00:00:00",
          "2006-01-08T00:00:00",
          "2006-01-09T00:00:00",
          "2006-01-10T00:00:00",
          "2006-01-11T00:00:00",
          "2006-01-12T00:00:00",
          "2006-01-13T00:00:00",
          "2006-01-14T00:00:00",
          "2006-01-15T00:00:00",
          "2006-01-16T00:00:00",
          "2006-01-17T00:00:00",
          "2006-01-18T00:00:00",
          "2006-01-19T00:00:00",
          "2006-01-20T00:00:00",
          "2006-01-21T00:00:00",
          "2006-01-22T00:00:00",
          "2006-01-23T00:00:00",
          "2006-01-24T00:00:00",
          "2006-01-25T00:00:00",
          "2006-01-26T00:00:00",
          "2006-01-27T00:00:00",
          "2006-01-28T00:00:00",
          "2006-01-29T00:00:00",
          "2006-01-30T00:00:00",
          "2006-01-31T00:00:00",
          "2006-02-01T00:00:00",
          "2006-02-02T00:00:00",
          "2006-02-03T00:00:00",
          "2006-02-04T00:00:00",
          "2006-02-05T00:00:00",
          "2006-02-06T00:00:00",
          "2006-02-07T00:00:00",
          "2006-02-08T00:00:00",
          "2006-02-09T00:00:00",
          "2006-02-10T00:00:00",
          "2006-02-11T00:00:00",
          "2006-02-12T00:00:00",
          "2006-02-13T00:00:00",
          "2006-02-14T00:00:00",
          "2006-02-15T00:00:00",
          "2006-02-16T00:00:00",
          "2006-02-17T00:00:00",
          "2006-02-18T00:00:00",
          "2006-02-19T00:00:00",
          "2006-02-20T00:00:00",
          "2006-02-21T00:00:00",
          "2006-02-22T00:00:00",
          "2006-02-23T00:00:00",
          "2006-02-24T00:00:00",
          "2006-02-25T00:00:00",
          "2006-02-26T00:00:00",
          "2006-02-27T00:00:00",
          "2006-02-28T00:00:00",
          "2006-03-01T00:00:00",
          "2006-03-02T00:00:00",
          "2006-03-03T00:00:00",
          "2006-03-04T00:00:00",
          "2006-03-05T00:00:00",
          "2006-03-06T00:00:00",
          "2006-03-07T00:00:00",
          "2006-03-08T00:00:00",
          "2006-03-09T00:00:00",
          "2006-03-10T00:00:00",
          "2006-03-11T00:00:00",
          "2006-03-12T00:00:00",
          "2006-03-13T00:00:00",
          "2006-03-14T00:00:00",
          "2006-03-15T00:00:00",
          "2006-03-16T00:00:00",
          "2006-03-17T00:00:00",
          "2006-03-18T00:00:00",
          "2006-03-19T00:00:00",
          "2006-03-20T00:00:00",
          "2006-03-21T00:00:00",
          "2006-03-22T00:00:00",
          "2006-03-23T00:00:00",
          "2006-03-24T00:00:00",
          "2006-03-25T00:00:00",
          "2006-03-26T00:00:00",
          "2006-03-27T00:00:00",
          "2006-03-28T00:00:00",
          "2006-03-29T00:00:00",
          "2006-03-30T00:00:00",
          "2006-03-31T00:00:00",
          "2006-04-01T00:00:00",
          "2006-04-02T00:00:00",
          "2006-04-03T00:00:00",
          "2006-04-04T00:00:00",
          "2006-04-05T00:00:00",
          "2006-04-06T00:00:00",
          "2006-04-07T00:00:00",
          "2006-04-08T00:00:00",
          "2006-04-09T00:00:00",
          "2006-04-10T00:00:00",
          "2006-04-11T00:00:00",
          "2006-04-12T00:00:00",
          "2006-04-13T00:00:00",
          "2006-04-14T00:00:00",
          "2006-04-15T00:00:00",
          "2006-04-16T00:00:00",
          "2006-04-17T00:00:00",
          "2006-04-18T00:00:00",
          "2006-04-19T00:00:00",
          "2006-04-20T00:00:00",
          "2006-04-21T00:00:00",
          "2006-04-22T00:00:00",
          "2006-04-23T00:00:00",
          "2006-04-24T00:00:00",
          "2006-04-25T00:00:00",
          "2006-04-26T00:00:00",
          "2006-04-27T00:00:00",
          "2006-04-28T00:00:00",
          "2006-04-29T00:00:00",
          "2006-04-30T00:00:00",
          "2006-05-01T00:00:00",
          "2006-05-02T00:00:00",
          "2006-05-03T00:00:00",
          "2006-05-04T00:00:00",
          "2006-05-05T00:00:00",
          "2006-05-06T00:00:00",
          "2006-05-07T00:00:00",
          "2006-05-08T00:00:00",
          "2006-05-09T00:00:00",
          "2006-05-10T00:00:00",
          "2006-05-11T00:00:00",
          "2006-05-12T00:00:00",
          "2006-05-13T00:00:00",
          "2006-05-14T00:00:00",
          "2006-05-15T00:00:00",
          "2006-05-16T00:00:00",
          "2006-05-17T00:00:00",
          "2006-05-18T00:00:00",
          "2006-05-19T00:00:00",
          "2006-05-20T00:00:00",
          "2006-05-21T00:00:00",
          "2006-05-22T00:00:00",
          "2006-05-23T00:00:00",
          "2006-05-24T00:00:00",
          "2006-05-25T00:00:00",
          "2006-05-26T00:00:00",
          "2006-05-27T00:00:00",
          "2006-05-28T00:00:00",
          "2006-05-29T00:00:00",
          "2006-05-30T00:00:00",
          "2006-05-31T00:00:00"
         ],
         "xaxis": "x",
         "y": [
          3166.607019380623,
          3350.1732527153063,
          3327.0488716396812,
          3416.921841405035,
          3600.709332601534,
          3634.0558895891645,
          3323.142860546317,
          3276.743029197524,
          3340.94313552946,
          3425.5829003146587,
          3626.7383058848295,
          3344.347793751245,
          3555.5089192379114,
          3323.010713288459,
          3596.3137101132515,
          3603.165244829123,
          3858.107264936557,
          3844.4567199796616,
          3876.8996740224793,
          3678.9894162522155,
          3854.9645888142595,
          3322.6521673420602,
          3486.251751921584,
          3635.4077506034973,
          3432.852767745404,
          3537.432562677492,
          3674.1885147983103,
          3505.187122177511,
          3316.8658695830445,
          3059.4869946030585,
          3436.5265569638364,
          3676.5839671129033,
          3488.582280528658,
          3718.7367329257386,
          3849.0661540264414,
          3588.924844795153,
          3548.9652436560764,
          3390.4143754023867,
          3394.4196125472213,
          3264.550872305709,
          3256.263286156195,
          3256.330889862458,
          3265.9927217919894,
          3439.4731689319697,
          3512.5503625014453,
          3492.324246109623,
          3507.069829733056,
          3362.8571662842965,
          3512.7680488689934,
          3337.576193558942,
          3504.2264553528885,
          3303.9602152295956,
          3353.7396699504534,
          3350.9850246357187,
          3360.284181309949,
          3541.850275100767,
          3371.1164212308477,
          3614.1287390814036,
          3437.6564407535066,
          3476.9826959053526,
          3695.5871307274256,
          3466.0855093244622,
          3648.404045531379,
          3648.3892468337745,
          3569.854720908021,
          3334.326970609054,
          3514.27077635488,
          3483.729412096089,
          3299.2542989641065,
          3556.4436831560006,
          3334.512243701051,
          3528.0643897657146,
          3510.75088526811,
          3625.2386307442857,
          3409.4059232874997,
          3606.853993391071,
          3591.100181139194,
          3688.0597306584336,
          3462.367911261603,
          3648.162601582478,
          3448.5221488113484,
          3655.4586250299776,
          3414.4382198818666,
          3543.1095256439826,
          3541.1349420457354,
          3374.384447408442,
          3390.9740890107514,
          3253.2872227218095,
          3450.7192551190115,
          3433.9267951195834,
          3546.2711517871544,
          3442.081202082574,
          3667.2694042594903,
          3533.430839373387,
          3530.759411501027,
          3719.3641136300857,
          3648.823518914136,
          3371.613418859401,
          3545.7339532187357,
          3509.4478935996376,
          3319.44566405224,
          3357.606444770065,
          3528.083316114371,
          3623.746303607352,
          3488.6186552053887,
          3678.670912668826,
          3495.3119310623024,
          3607.225679521229,
          3413.232889619043,
          3412.7286815621537,
          3635.810158447714,
          3481.284181517979,
          3579.0881725641184,
          3879.248232849666,
          3837.2736892412086,
          4086.2189394627303,
          4165.651085458082,
          3797.0317117371046,
          3848.612872956487,
          3686.2420201014397,
          3425.595107767112,
          3533.0309609800206,
          3332.2933397648044,
          3561.438859408983,
          3671.807705539836,
          3601.773256336509,
          3775.8244774844215,
          3618.3911079908107,
          3538.666596910902,
          3144.7316716629584,
          3348.9925225293573,
          3296.568633262277,
          3441.5787161712797,
          3431.28007183842,
          3507.27645014225,
          3745.0790815516207,
          3926.768009900943,
          3715.1966164040377,
          3799.198078244006,
          3564.98210362746,
          3753.402886097659,
          3495.907113332393,
          3598.9078772625967,
          3304.3635773643405,
          3294.6726261000836,
          3459.693282453807,
          3323.467349857374,
          3560.519377281202,
          3515.6675538226386,
          3487.0230369297283,
          3302.2490081844717,
          3475.7513975802945,
          3294.2319338390926,
          3331.863980912556,
          3331.1232398154634,
          3503.0455609201954,
          3603.1687078417435,
          3383.3871221576487,
          3577.0747113465463,
          3557.8821792226126,
          3421.917498358117,
          3609.16023413107,
          3403.408361325497,
          3577.9311772278643,
          3424.971096198114,
          3490.417128334159,
          3503.6131290290473,
          3699.926209362646,
          3682.8175270947113,
          3508.4681397610893,
          3731.945977284485,
          3702.642751271368,
          3640.6014755119486,
          3456.1189635426063,
          3664.0065435857227,
          3426.9204668951716,
          3605.024909593564,
          3572.437132405945,
          3636.118752278971,
          3412.0824649744955,
          3584.788492722581,
          3466.098479348946,
          3696.4327471752385,
          3480.970313393052,
          3679.243777446994,
          3664.7602224436378,
          3493.594977621903,
          3547.0922584108503,
          3545.326325770071,
          3770.6353222321263,
          3547.895740733704,
          3736.8050350962785,
          3549.8102494205423,
          3521.182461488475,
          3694.6456981001397,
          3654.123141497423,
          3456.3004729256304,
          3656.045022393768,
          3578.8701653001053,
          3535.4809072878843,
          3308.793155275849,
          3452.139577329892,
          3325.2543385406307,
          3513.5462093261353,
          3489.6196367133525,
          3350.2724049524845,
          3351.3721582430176,
          3428.9033341808745,
          3630.991180739167,
          3518.7809521817735,
          3553.2632698869975,
          3633.226709652498,
          3637.504320465772,
          3826.5306204733524,
          3845.9027263345006,
          3606.689604614009,
          3779.577118467685,
          3502.7566266343756,
          3675.1828924713973,
          3679.1207036862097,
          3450.8346867413265,
          3494.548877463298,
          3725.232997409773,
          3510.891479029246,
          3711.0003669482835,
          3698.9928372697577,
          3600.7974988066694,
          3794.0042374884906,
          3837.5273411597163,
          3780.686195388788,
          3531.9425710661067,
          3529.455063532803,
          3538.957211855092,
          3733.711749673622,
          3645.6007237925014,
          3948.9323427036807,
          3960.997615039596,
          4196.389697683955,
          4193.817621672403,
          4206.500838619716,
          4002.4827119329516,
          3743.7221519522877,
          3869.7042225500854,
          3757.213622161758,
          3701.4826446181573,
          3494.0923921748745,
          3703.9549285793423,
          3642.808765444283,
          3782.7518825220573,
          3765.4172397591656,
          3744.771735065459,
          3947.740185743515,
          3699.6849744369088,
          3860.8891155797173,
          3805.737848347881,
          3591.289370677524,
          3599.94980834298,
          3552.906764419452,
          3733.6343568825855,
          3468.131760853695,
          3617.1971219904276,
          3555.5961395756567,
          3340.6233270328776,
          3354.7712749002744,
          3319.162391436686,
          3517.056054334911,
          3274.0931115320573,
          3450.5794175744127,
          3420.6674280148295,
          3240.9334954810006,
          3293.0657507731535,
          3297.316537327694,
          3536.0317746182677,
          3333.9185950226115,
          3550.35232774506,
          3558.581236800039,
          3414.326055137545,
          3498.4886268044474,
          3530.6230991883626,
          3792.4815736357855,
          3608.29516267725,
          3837.091212182187,
          3851.9048688174676,
          3708.3819020948986,
          3787.4870564386415,
          3808.9714350760005,
          4054.9109771898006,
          3849.977217802992,
          4053.7414103322058,
          4039.8705843301977,
          3864.712898761418,
          3909.987062981858,
          3896.2298554767103,
          4106.314346540012,
          3865.7005604074757,
          4034.72018906484,
          3987.754434305847,
          3781.8028006984437,
          3799.1580201174515,
          3760.8414820316757,
          3950.112047089051,
          3692.7101716838156,
          3849.13906477101,
          3793.841977766975,
          3583.7733905211267,
          3601.079133584867,
          3566.539605204757,
          3763.088676957267,
          3516.0698735828364,
          3685.531158398343,
          3645.4169995884013,
          3452.1550319582834,
          3487.3518964493373,
          3471.2519617306125,
          3686.271084507821,
          3457.2665860116776,
          3643.8444083689033,
          3619.5618088295932,
          3440.5226476980456,
          3488.0796585566227,
          3482.297280801454,
          3705.487158500266,
          3482.477502243831,
          3672.917366701015,
          3650.4743566118545,
          3471.423031702293,
          3517.3386659143316,
          3508.5502509819407,
          3727.6651913268643,
          3499.8272518276576,
          3685.009186509396,
          3657.1989349841547,
          3472.977018581379,
          3514.2001295152972,
          3501.4451075674006,
          3717.526013407197,
          3487.7460725565015,
          3672.18607504469,
          3644.8882151514385,
          3462.43303924098,
          3506.624469415269,
          3497.9370118993384,
          3719.0377173928837,
          3495.04447441614,
          3685.8219834453134,
          3665.174122846744,
          3489.43007416302,
          3540.138856911817,
          3537.5260573613514,
          3764.024997677913,
          3544.5436193657274,
          3738.768145151094,
          3720.3619789428762,
          3545.5570000764383,
          3595.851737116845,
          3591.4700921690423,
          3814.892803179015,
          3591.122915400258,
          3779.986379267876,
          3755.3263412401193,
          3573.5884408722745,
          3616.5118012523612,
          3604.579623820267,
          3820.541845402898,
          3589.6714205824455,
          3772.055650729165,
          3741.781432754107,
          3555.5120399211305,
          3595.1704040274176,
          3581.3830661851134,
          3796.997476250278,
          3567.33438507681,
          3752.4768851722956,
          3726.455055905031,
          3545.8238549673733,
          3592.349199979736,
          3586.45632809949,
          3810.7529827569892,
          3590.288993267068,
          3784.853582537714,
          3768.1691035586605,
          3596.4785637539267,
          3651.241580122132,
          3652.5925430818193,
          3882.873228885333,
          3666.901127444811,
          3864.2745415465097,
          3848.5729073427055,
          3675.9494806854673,
          3727.8308608021266,
          3724.3770062878893,
          3948.013912807745,
          3723.7002037131397,
          3911.228729334825,
          3884.4217190979684,
          3699.716776954516,
          3738.8583849669267,
          3722.348804984079,
          3932.9708173176923,
          3696.0438435675796,
          3871.7148628055947,
          3834.142986659279,
          3640.0753034116187,
          3671.5289640606616,
          3649.2336874602224,
          3856.147380974021,
          3617.7066437232606,
          3794.113737262807,
          3759.5190150917374,
          3570.596493352556,
          3609.227551878755,
          3595.9469024557893,
          3813.4634249345427,
          3586.9174898888505,
          3776.1761559582765,
          3755.024994186455,
          3579.7539473156444,
          3631.851911768044,
          3631.463859677243,
          3860.9227737109877,
          3645.0176868364074,
          3843.298899869591,
          3829.278834486082,
          3659.0256645488257,
          3713.8641858716605,
          3713.8375584803703,
          3941.242060585528,
          3720.8960667075826,
          3912.444299167147,
          3889.5558437979766,
          3708.513161629446,
          3750.906698521515,
          3737.088917297085,
          3949.7001248808065,
          3713.927575869563,
          3889.7991982458866,
          3851.3707470956083,
          3655.3039419983907,
          3683.5505131426835,
          3656.7962930576105,
          3857.9780187472425,
          3612.5345889339865,
          3780.6943485561037,
          3736.6573891059006,
          3537.1705541083293,
          3564.2101552735744,
          3538.4265613813113,
          3742.663293748987,
          3502.2122871826878,
          3677.106750599293,
          3641.3104301882736,
          3451.3007367915498,
          3488.7604806492145,
          3474.032086597369,
          3689.6466170540393,
          3460.588947165773,
          3646.600213582531,
          3621.376038538804,
          3441.1577106499212,
          3487.4308149725557,
          3480.38497226589,
          3702.446845797402,
          3478.5476404812466,
          3668.426149395215,
          3645.825838222996,
          3467.0831935396404,
          3513.821926295594,
          3506.406840459276,
          3727.4697217808493,
          3502.1687084681403,
          3690.4824688721387,
          3666.397971275944,
          3486.489381513335,
          3532.602995061063,
          3525.3023242802947,
          3747.3859920913083,
          3524.1401662288217,
          3715.627098829626,
          3695.86875556455,
          3521.4232220535314,
          3574.068893929092,
          3574.2506152210863,
          3804.600402634475,
          3590.1944186318365,
          3790.847630909018,
          3780.3049630652304,
          3614.826397670031,
          3675.880771212518,
          3683.6021263558937,
          3920.320936632003,
          3710.831530716588,
          3914.696815232506,
          3905.4487699624256,
          3739.1818639355247,
          3797.2538473438385,
          3799.7475375850004,
          4029.0057130509185,
          3809.9002926867865,
          4002.136808884829,
          3979.4526174671346,
          3798.206026117406,
          3840.0708918532127,
          3825.490462163271,
          4037.202786351974,
          3800.499138863167,
          3975.5167692861255,
          3936.4247644862294,
          3740.0005704421237,
          3768.3121043155975,
          3742.1596135363175,
          3944.5899813073324,
          3701.1452722960566,
          3872.147153432536,
          3831.8762535080186,
          3637.1442364401337,
          3669.973687456794,
          3651.040073296859,
          3863.188511569925,
          3631.6871083422907,
          3816.5183936342687,
          3791.567745029099,
          3613.206336710412,
          3662.983417807471,
          3661.0818359589116,
          3889.849155854292,
          3674.0657171620187,
          3873.2507295199125,
          3860.864858047865,
          3692.906408089046,
          3750.615505445324,
          3753.9398136873615,
          3985.0738088659514,
          3768.7326817494013,
          3964.4617550629587,
          3945.8397300727047,
          3769.0728083348786,
          3815.694101016908,
          3806.0219632755543,
          4022.689447861664,
          3790.9061959102896,
          3970.7539679788924,
          3936.3745047302227,
          3744.5471874984255,
          3777.3713732757,
          3755.707528503462,
          3962.689853794328,
          3723.9722122182247,
          3900.0090413433445,
          3865.2303839623733,
          3676.6089084496807,
          3716.3341370599446,
          3705.2482827642775,
          3926.356586580647,
          3705.0740848558007,
          3901.510515981037,
          3889.652441407427,
          3725.94030297403,
          3791.9554002609916,
          3807.870873832218,
          4055.979199484921,
          3860.9576740041684,
          4082.173102869631,
          4092.884229078589,
          3948.8390674553693,
          4030.9815639950793,
          4058.9211111793447,
          4314.476894409855,
          4121.958060093115,
          4340.480480082386,
          4343.178282785502,
          4185.807024420463,
          4249.452715814589,
          4254.0001250002615,
          4481.6723173079345,
          4257.302508806004,
          4440.639190274517,
          4405.542967614187,
          4208.572354023863,
          4231.673168303175,
          4195.625464048717,
          4383.560508297511,
          4121.209479646704,
          4269.185458597585,
          4202.157776192411,
          3977.4165641117866,
          3977.5427393463488,
          3923.8378818656065,
          4099.826997522687,
          3831.49623661773,
          3979.5674566050006,
          3918.6689170109094,
          3705.9000714186454,
          3723.505707181081,
          3692.3138036745413,
          3895.249910484294,
          3657.589826532279,
          3839.252088126848,
          3813.9890923506878,
          3637.974290037981,
          3692.500113610151,
          3697.440386032473,
          3934.789365380997,
          3728.9385542068862,
          3938.9921424987792,
          3937.9793014599086,
          3781.4601995965477,
          3850.239905322847,
          3863.8434966332666,
          4104.064193407839,
          3895.2453987240538,
          4096.597377770054,
          4081.406757819704,
          3905.6357943396506,
          3950.6257463400175,
          3936.557960850566,
          4145.984854285533,
          3904.0921319578847
         ],
         "yaxis": "y"
        }
       ],
       "layout": {
        "legend": {
         "tracegroupgap": 0
        },
        "margin": {
         "t": 60
        },
        "template": {
         "data": {
          "bar": [
           {
            "error_x": {
             "color": "#f2f5fa"
            },
            "error_y": {
             "color": "#f2f5fa"
            },
            "marker": {
             "line": {
              "color": "rgb(17,17,17)",
              "width": 0.5
             },
             "pattern": {
              "fillmode": "overlay",
              "size": 10,
              "solidity": 0.2
             }
            },
            "type": "bar"
           }
          ],
          "barpolar": [
           {
            "marker": {
             "line": {
              "color": "rgb(17,17,17)",
              "width": 0.5
             },
             "pattern": {
              "fillmode": "overlay",
              "size": 10,
              "solidity": 0.2
             }
            },
            "type": "barpolar"
           }
          ],
          "carpet": [
           {
            "aaxis": {
             "endlinecolor": "#A2B1C6",
             "gridcolor": "#506784",
             "linecolor": "#506784",
             "minorgridcolor": "#506784",
             "startlinecolor": "#A2B1C6"
            },
            "baxis": {
             "endlinecolor": "#A2B1C6",
             "gridcolor": "#506784",
             "linecolor": "#506784",
             "minorgridcolor": "#506784",
             "startlinecolor": "#A2B1C6"
            },
            "type": "carpet"
           }
          ],
          "choropleth": [
           {
            "colorbar": {
             "outlinewidth": 0,
             "ticks": ""
            },
            "type": "choropleth"
           }
          ],
          "contour": [
           {
            "colorbar": {
             "outlinewidth": 0,
             "ticks": ""
            },
            "colorscale": [
             [
              0,
              "#0d0887"
             ],
             [
              0.1111111111111111,
              "#46039f"
             ],
             [
              0.2222222222222222,
              "#7201a8"
             ],
             [
              0.3333333333333333,
              "#9c179e"
             ],
             [
              0.4444444444444444,
              "#bd3786"
             ],
             [
              0.5555555555555556,
              "#d8576b"
             ],
             [
              0.6666666666666666,
              "#ed7953"
             ],
             [
              0.7777777777777778,
              "#fb9f3a"
             ],
             [
              0.8888888888888888,
              "#fdca26"
             ],
             [
              1,
              "#f0f921"
             ]
            ],
            "type": "contour"
           }
          ],
          "contourcarpet": [
           {
            "colorbar": {
             "outlinewidth": 0,
             "ticks": ""
            },
            "type": "contourcarpet"
           }
          ],
          "heatmap": [
           {
            "colorbar": {
             "outlinewidth": 0,
             "ticks": ""
            },
            "colorscale": [
             [
              0,
              "#0d0887"
             ],
             [
              0.1111111111111111,
              "#46039f"
             ],
             [
              0.2222222222222222,
              "#7201a8"
             ],
             [
              0.3333333333333333,
              "#9c179e"
             ],
             [
              0.4444444444444444,
              "#bd3786"
             ],
             [
              0.5555555555555556,
              "#d8576b"
             ],
             [
              0.6666666666666666,
              "#ed7953"
             ],
             [
              0.7777777777777778,
              "#fb9f3a"
             ],
             [
              0.8888888888888888,
              "#fdca26"
             ],
             [
              1,
              "#f0f921"
             ]
            ],
            "type": "heatmap"
           }
          ],
          "heatmapgl": [
           {
            "colorbar": {
             "outlinewidth": 0,
             "ticks": ""
            },
            "colorscale": [
             [
              0,
              "#0d0887"
             ],
             [
              0.1111111111111111,
              "#46039f"
             ],
             [
              0.2222222222222222,
              "#7201a8"
             ],
             [
              0.3333333333333333,
              "#9c179e"
             ],
             [
              0.4444444444444444,
              "#bd3786"
             ],
             [
              0.5555555555555556,
              "#d8576b"
             ],
             [
              0.6666666666666666,
              "#ed7953"
             ],
             [
              0.7777777777777778,
              "#fb9f3a"
             ],
             [
              0.8888888888888888,
              "#fdca26"
             ],
             [
              1,
              "#f0f921"
             ]
            ],
            "type": "heatmapgl"
           }
          ],
          "histogram": [
           {
            "marker": {
             "pattern": {
              "fillmode": "overlay",
              "size": 10,
              "solidity": 0.2
             }
            },
            "type": "histogram"
           }
          ],
          "histogram2d": [
           {
            "colorbar": {
             "outlinewidth": 0,
             "ticks": ""
            },
            "colorscale": [
             [
              0,
              "#0d0887"
             ],
             [
              0.1111111111111111,
              "#46039f"
             ],
             [
              0.2222222222222222,
              "#7201a8"
             ],
             [
              0.3333333333333333,
              "#9c179e"
             ],
             [
              0.4444444444444444,
              "#bd3786"
             ],
             [
              0.5555555555555556,
              "#d8576b"
             ],
             [
              0.6666666666666666,
              "#ed7953"
             ],
             [
              0.7777777777777778,
              "#fb9f3a"
             ],
             [
              0.8888888888888888,
              "#fdca26"
             ],
             [
              1,
              "#f0f921"
             ]
            ],
            "type": "histogram2d"
           }
          ],
          "histogram2dcontour": [
           {
            "colorbar": {
             "outlinewidth": 0,
             "ticks": ""
            },
            "colorscale": [
             [
              0,
              "#0d0887"
             ],
             [
              0.1111111111111111,
              "#46039f"
             ],
             [
              0.2222222222222222,
              "#7201a8"
             ],
             [
              0.3333333333333333,
              "#9c179e"
             ],
             [
              0.4444444444444444,
              "#bd3786"
             ],
             [
              0.5555555555555556,
              "#d8576b"
             ],
             [
              0.6666666666666666,
              "#ed7953"
             ],
             [
              0.7777777777777778,
              "#fb9f3a"
             ],
             [
              0.8888888888888888,
              "#fdca26"
             ],
             [
              1,
              "#f0f921"
             ]
            ],
            "type": "histogram2dcontour"
           }
          ],
          "mesh3d": [
           {
            "colorbar": {
             "outlinewidth": 0,
             "ticks": ""
            },
            "type": "mesh3d"
           }
          ],
          "parcoords": [
           {
            "line": {
             "colorbar": {
              "outlinewidth": 0,
              "ticks": ""
             }
            },
            "type": "parcoords"
           }
          ],
          "pie": [
           {
            "automargin": true,
            "type": "pie"
           }
          ],
          "scatter": [
           {
            "marker": {
             "line": {
              "color": "#283442"
             }
            },
            "type": "scatter"
           }
          ],
          "scatter3d": [
           {
            "line": {
             "colorbar": {
              "outlinewidth": 0,
              "ticks": ""
             }
            },
            "marker": {
             "colorbar": {
              "outlinewidth": 0,
              "ticks": ""
             }
            },
            "type": "scatter3d"
           }
          ],
          "scattercarpet": [
           {
            "marker": {
             "colorbar": {
              "outlinewidth": 0,
              "ticks": ""
             }
            },
            "type": "scattercarpet"
           }
          ],
          "scattergeo": [
           {
            "marker": {
             "colorbar": {
              "outlinewidth": 0,
              "ticks": ""
             }
            },
            "type": "scattergeo"
           }
          ],
          "scattergl": [
           {
            "marker": {
             "line": {
              "color": "#283442"
             }
            },
            "type": "scattergl"
           }
          ],
          "scattermapbox": [
           {
            "marker": {
             "colorbar": {
              "outlinewidth": 0,
              "ticks": ""
             }
            },
            "type": "scattermapbox"
           }
          ],
          "scatterpolar": [
           {
            "marker": {
             "colorbar": {
              "outlinewidth": 0,
              "ticks": ""
             }
            },
            "type": "scatterpolar"
           }
          ],
          "scatterpolargl": [
           {
            "marker": {
             "colorbar": {
              "outlinewidth": 0,
              "ticks": ""
             }
            },
            "type": "scatterpolargl"
           }
          ],
          "scatterternary": [
           {
            "marker": {
             "colorbar": {
              "outlinewidth": 0,
              "ticks": ""
             }
            },
            "type": "scatterternary"
           }
          ],
          "surface": [
           {
            "colorbar": {
             "outlinewidth": 0,
             "ticks": ""
            },
            "colorscale": [
             [
              0,
              "#0d0887"
             ],
             [
              0.1111111111111111,
              "#46039f"
             ],
             [
              0.2222222222222222,
              "#7201a8"
             ],
             [
              0.3333333333333333,
              "#9c179e"
             ],
             [
              0.4444444444444444,
              "#bd3786"
             ],
             [
              0.5555555555555556,
              "#d8576b"
             ],
             [
              0.6666666666666666,
              "#ed7953"
             ],
             [
              0.7777777777777778,
              "#fb9f3a"
             ],
             [
              0.8888888888888888,
              "#fdca26"
             ],
             [
              1,
              "#f0f921"
             ]
            ],
            "type": "surface"
           }
          ],
          "table": [
           {
            "cells": {
             "fill": {
              "color": "#506784"
             },
             "line": {
              "color": "rgb(17,17,17)"
             }
            },
            "header": {
             "fill": {
              "color": "#2a3f5f"
             },
             "line": {
              "color": "rgb(17,17,17)"
             }
            },
            "type": "table"
           }
          ]
         },
         "layout": {
          "annotationdefaults": {
           "arrowcolor": "#f2f5fa",
           "arrowhead": 0,
           "arrowwidth": 1
          },
          "autotypenumbers": "strict",
          "coloraxis": {
           "colorbar": {
            "outlinewidth": 0,
            "ticks": ""
           }
          },
          "colorscale": {
           "diverging": [
            [
             0,
             "#8e0152"
            ],
            [
             0.1,
             "#c51b7d"
            ],
            [
             0.2,
             "#de77ae"
            ],
            [
             0.3,
             "#f1b6da"
            ],
            [
             0.4,
             "#fde0ef"
            ],
            [
             0.5,
             "#f7f7f7"
            ],
            [
             0.6,
             "#e6f5d0"
            ],
            [
             0.7,
             "#b8e186"
            ],
            [
             0.8,
             "#7fbc41"
            ],
            [
             0.9,
             "#4d9221"
            ],
            [
             1,
             "#276419"
            ]
           ],
           "sequential": [
            [
             0,
             "#0d0887"
            ],
            [
             0.1111111111111111,
             "#46039f"
            ],
            [
             0.2222222222222222,
             "#7201a8"
            ],
            [
             0.3333333333333333,
             "#9c179e"
            ],
            [
             0.4444444444444444,
             "#bd3786"
            ],
            [
             0.5555555555555556,
             "#d8576b"
            ],
            [
             0.6666666666666666,
             "#ed7953"
            ],
            [
             0.7777777777777778,
             "#fb9f3a"
            ],
            [
             0.8888888888888888,
             "#fdca26"
            ],
            [
             1,
             "#f0f921"
            ]
           ],
           "sequentialminus": [
            [
             0,
             "#0d0887"
            ],
            [
             0.1111111111111111,
             "#46039f"
            ],
            [
             0.2222222222222222,
             "#7201a8"
            ],
            [
             0.3333333333333333,
             "#9c179e"
            ],
            [
             0.4444444444444444,
             "#bd3786"
            ],
            [
             0.5555555555555556,
             "#d8576b"
            ],
            [
             0.6666666666666666,
             "#ed7953"
            ],
            [
             0.7777777777777778,
             "#fb9f3a"
            ],
            [
             0.8888888888888888,
             "#fdca26"
            ],
            [
             1,
             "#f0f921"
            ]
           ]
          },
          "colorway": [
           "#636efa",
           "#EF553B",
           "#00cc96",
           "#ab63fa",
           "#FFA15A",
           "#19d3f3",
           "#FF6692",
           "#B6E880",
           "#FF97FF",
           "#FECB52"
          ],
          "font": {
           "color": "#f2f5fa"
          },
          "geo": {
           "bgcolor": "rgb(17,17,17)",
           "lakecolor": "rgb(17,17,17)",
           "landcolor": "rgb(17,17,17)",
           "showlakes": true,
           "showland": true,
           "subunitcolor": "#506784"
          },
          "hoverlabel": {
           "align": "left"
          },
          "hovermode": "closest",
          "mapbox": {
           "style": "dark"
          },
          "paper_bgcolor": "rgb(17,17,17)",
          "plot_bgcolor": "rgb(17,17,17)",
          "polar": {
           "angularaxis": {
            "gridcolor": "#506784",
            "linecolor": "#506784",
            "ticks": ""
           },
           "bgcolor": "rgb(17,17,17)",
           "radialaxis": {
            "gridcolor": "#506784",
            "linecolor": "#506784",
            "ticks": ""
           }
          },
          "scene": {
           "xaxis": {
            "backgroundcolor": "rgb(17,17,17)",
            "gridcolor": "#506784",
            "gridwidth": 2,
            "linecolor": "#506784",
            "showbackground": true,
            "ticks": "",
            "zerolinecolor": "#C8D4E3"
           },
           "yaxis": {
            "backgroundcolor": "rgb(17,17,17)",
            "gridcolor": "#506784",
            "gridwidth": 2,
            "linecolor": "#506784",
            "showbackground": true,
            "ticks": "",
            "zerolinecolor": "#C8D4E3"
           },
           "zaxis": {
            "backgroundcolor": "rgb(17,17,17)",
            "gridcolor": "#506784",
            "gridwidth": 2,
            "linecolor": "#506784",
            "showbackground": true,
            "ticks": "",
            "zerolinecolor": "#C8D4E3"
           }
          },
          "shapedefaults": {
           "line": {
            "color": "#f2f5fa"
           }
          },
          "sliderdefaults": {
           "bgcolor": "#C8D4E3",
           "bordercolor": "rgb(17,17,17)",
           "borderwidth": 1,
           "tickwidth": 0
          },
          "ternary": {
           "aaxis": {
            "gridcolor": "#506784",
            "linecolor": "#506784",
            "ticks": ""
           },
           "baxis": {
            "gridcolor": "#506784",
            "linecolor": "#506784",
            "ticks": ""
           },
           "bgcolor": "rgb(17,17,17)",
           "caxis": {
            "gridcolor": "#506784",
            "linecolor": "#506784",
            "ticks": ""
           }
          },
          "title": {
           "x": 0.05
          },
          "updatemenudefaults": {
           "bgcolor": "#506784",
           "borderwidth": 0
          },
          "xaxis": {
           "automargin": true,
           "gridcolor": "#283442",
           "linecolor": "#506784",
           "ticks": "",
           "title": {
            "standoff": 15
           },
           "zerolinecolor": "#283442",
           "zerolinewidth": 2
          },
          "yaxis": {
           "automargin": true,
           "gridcolor": "#283442",
           "linecolor": "#506784",
           "ticks": "",
           "title": {
            "standoff": 15
           },
           "zerolinecolor": "#283442",
           "zerolinewidth": 2
          }
         }
        },
        "xaxis": {
         "anchor": "y",
         "domain": [
          0,
          1
         ],
         "title": {
          "text": "x"
         }
        },
        "yaxis": {
         "anchor": "x",
         "domain": [
          0,
          1
         ],
         "title": {
          "text": "y"
         }
        }
       }
      }
     },
     "metadata": {},
     "output_type": "display_data"
    }
   ],
   "source": [
    "px.line(x = a[\"ds\"], y = a[\"yhat\"],template = 'plotly_dark')"
   ]
  },
  {
   "cell_type": "code",
   "execution_count": null,
   "metadata": {},
   "outputs": [],
   "source": []
  },
  {
   "cell_type": "code",
   "execution_count": 62,
   "metadata": {},
   "outputs": [
    {
     "data": {
      "text/html": [
       "<div>\n",
       "<style scoped>\n",
       "    .dataframe tbody tr th:only-of-type {\n",
       "        vertical-align: middle;\n",
       "    }\n",
       "\n",
       "    .dataframe tbody tr th {\n",
       "        vertical-align: top;\n",
       "    }\n",
       "\n",
       "    .dataframe thead th {\n",
       "        text-align: right;\n",
       "    }\n",
       "</style>\n",
       "<table border=\"1\" class=\"dataframe\">\n",
       "  <thead>\n",
       "    <tr style=\"text-align: right;\">\n",
       "      <th></th>\n",
       "      <th>ds</th>\n",
       "      <th>y</th>\n",
       "    </tr>\n",
       "  </thead>\n",
       "  <tbody>\n",
       "    <tr>\n",
       "      <th>0</th>\n",
       "      <td>2003-02-24</td>\n",
       "      <td>2871.00</td>\n",
       "    </tr>\n",
       "    <tr>\n",
       "      <th>1</th>\n",
       "      <td>2003-05-07</td>\n",
       "      <td>2765.90</td>\n",
       "    </tr>\n",
       "    <tr>\n",
       "      <th>2</th>\n",
       "      <td>2003-07-01</td>\n",
       "      <td>3884.34</td>\n",
       "    </tr>\n",
       "    <tr>\n",
       "      <th>3</th>\n",
       "      <td>2003-08-25</td>\n",
       "      <td>3746.70</td>\n",
       "    </tr>\n",
       "    <tr>\n",
       "      <th>4</th>\n",
       "      <td>2003-10-10</td>\n",
       "      <td>5205.27</td>\n",
       "    </tr>\n",
       "  </tbody>\n",
       "</table>\n",
       "</div>"
      ],
      "text/plain": [
       "          ds        y\n",
       "0 2003-02-24  2871.00\n",
       "1 2003-05-07  2765.90\n",
       "2 2003-07-01  3884.34\n",
       "3 2003-08-25  3746.70\n",
       "4 2003-10-10  5205.27"
      ]
     },
     "execution_count": 62,
     "metadata": {},
     "output_type": "execute_result"
    }
   ],
   "source": [
    "df.head()"
   ]
  },
  {
   "cell_type": "code",
   "execution_count": null,
   "metadata": {},
   "outputs": [],
   "source": []
  }
 ],
 "metadata": {
  "kernelspec": {
   "display_name": "Python 3",
   "language": "python",
   "name": "python3"
  },
  "language_info": {
   "codemirror_mode": {
    "name": "ipython",
    "version": 3
   },
   "file_extension": ".py",
   "mimetype": "text/x-python",
   "name": "python",
   "nbconvert_exporter": "python",
   "pygments_lexer": "ipython3",
   "version": "3.8.8"
  }
 },
 "nbformat": 4,
 "nbformat_minor": 4
}
